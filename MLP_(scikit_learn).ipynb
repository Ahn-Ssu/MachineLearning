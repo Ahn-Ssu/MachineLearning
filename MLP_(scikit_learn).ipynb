{
  "nbformat": 4,
  "nbformat_minor": 0,
  "metadata": {
    "colab": {
      "name": "MLP (scikit-learn).ipynb",
      "version": "0.3.2",
      "provenance": [],
      "collapsed_sections": [],
      "include_colab_link": true
    },
    "kernelspec": {
      "name": "python3",
      "display_name": "Python 3"
    },
    "accelerator": "GPU"
  },
  "cells": [
    {
      "cell_type": "markdown",
      "metadata": {
        "id": "view-in-github",
        "colab_type": "text"
      },
      "source": [
        "<a href=\"https://colab.research.google.com/github/callee2006/MachineLearning/blob/master/MLP_(scikit_learn).ipynb\" target=\"_parent\"><img src=\"https://colab.research.google.com/assets/colab-badge.svg\" alt=\"Open In Colab\"/></a>"
      ]
    },
    {
      "metadata": {
        "id": "fzHEwOGyzQQb",
        "colab_type": "text"
      },
      "cell_type": "markdown",
      "source": [
        "This file contains practice examples of the following topics:\n",
        "\n",
        "* Neural Networks\t(MLP)\n",
        "  - MLP classification\n",
        "  - MLP regression\n",
        "\n",
        "\n",
        "(Most of the contents and code are from \"Introduction to Machine Learning with Python\" by Andreas C. Müller & Sarah Guido)"
      ]
    },
    {
      "metadata": {
        "id": "nIn3aQngJ7q8",
        "colab_type": "code",
        "outputId": "ef13e39b-09a1-4bce-9d13-fd32d12efcdb",
        "colab": {
          "base_uri": "https://localhost:8080/",
          "height": 469
        }
      },
      "cell_type": "code",
      "source": [
        "! pip install mglearn\n",
        "\n",
        "import numpy as np\n",
        "import sklearn as sk\n",
        "from sklearn.model_selection import train_test_split\n",
        "\n",
        "import matplotlib.pyplot as plt\n",
        "import mglearn"
      ],
      "execution_count": 0,
      "outputs": [
        {
          "output_type": "stream",
          "text": [
            "Collecting mglearn\n",
            "\u001b[?25l  Downloading https://files.pythonhosted.org/packages/fb/01/8d3630ecc767c9de96a9c46e055f2a3a5f9e14a47d3d0348a36a5005fe67/mglearn-0.1.7.tar.gz (540kB)\n",
            "\u001b[K    100% |████████████████████████████████| 542kB 31.5MB/s \n",
            "\u001b[?25hRequirement already satisfied: numpy in /usr/local/lib/python3.6/dist-packages (from mglearn) (1.16.2)\n",
            "Requirement already satisfied: matplotlib in /usr/local/lib/python3.6/dist-packages (from mglearn) (3.0.3)\n",
            "Requirement already satisfied: scikit-learn in /usr/local/lib/python3.6/dist-packages (from mglearn) (0.20.3)\n",
            "Requirement already satisfied: pandas in /usr/local/lib/python3.6/dist-packages (from mglearn) (0.24.2)\n",
            "Requirement already satisfied: pillow in /usr/local/lib/python3.6/dist-packages (from mglearn) (4.3.0)\n",
            "Requirement already satisfied: cycler in /usr/local/lib/python3.6/dist-packages (from mglearn) (0.10.0)\n",
            "Requirement already satisfied: imageio in /usr/local/lib/python3.6/dist-packages (from mglearn) (2.4.1)\n",
            "Requirement already satisfied: kiwisolver>=1.0.1 in /usr/local/lib/python3.6/dist-packages (from matplotlib->mglearn) (1.0.1)\n",
            "Requirement already satisfied: python-dateutil>=2.1 in /usr/local/lib/python3.6/dist-packages (from matplotlib->mglearn) (2.5.3)\n",
            "Requirement already satisfied: pyparsing!=2.0.4,!=2.1.2,!=2.1.6,>=2.0.1 in /usr/local/lib/python3.6/dist-packages (from matplotlib->mglearn) (2.4.0)\n",
            "Requirement already satisfied: scipy>=0.13.3 in /usr/local/lib/python3.6/dist-packages (from scikit-learn->mglearn) (1.2.1)\n",
            "Requirement already satisfied: pytz>=2011k in /usr/local/lib/python3.6/dist-packages (from pandas->mglearn) (2018.9)\n",
            "Requirement already satisfied: olefile in /usr/local/lib/python3.6/dist-packages (from pillow->mglearn) (0.46)\n",
            "Requirement already satisfied: six in /usr/local/lib/python3.6/dist-packages (from cycler->mglearn) (1.12.0)\n",
            "Requirement already satisfied: setuptools in /usr/local/lib/python3.6/dist-packages (from kiwisolver>=1.0.1->matplotlib->mglearn) (40.9.0)\n",
            "Building wheels for collected packages: mglearn\n",
            "  Building wheel for mglearn (setup.py) ... \u001b[?25ldone\n",
            "\u001b[?25h  Stored in directory: /root/.cache/pip/wheels/74/cf/8d/04f4932d15854a36726c6210763c7127e62de28f5c8ddfcf3b\n",
            "Successfully built mglearn\n",
            "Installing collected packages: mglearn\n",
            "Successfully installed mglearn-0.1.7\n"
          ],
          "name": "stdout"
        }
      ]
    },
    {
      "metadata": {
        "id": "uFEyG3XZdkgx",
        "colab_type": "text"
      },
      "cell_type": "markdown",
      "source": [
        "# Neural Networks with sci-kit learn\n",
        "\n",
        "* Mathmetical model to immitate biological neurons\n",
        "\n",
        "* Powerful, flexible, scalable (Reemerging with deep learning)\n",
        "\n",
        "* Mapping between vectors or sequences.\n",
        "> classification, regression, transform tasks, detection, segmentation\n",
        "  \n",
        "* Learns probabilistic densities\n",
        "> generation, transform, annomaly detection\n",
        "\n",
        "\n",
        "* $y_j=f(\\sum_i{w_{ij} x_i}+b_j)$\n",
        "\n",
        "> $f(\\cdot)$: nonlinear activation function (ReLU, sigmoid, tanh, etc.)\n",
        "\n",
        "* training algorithm: backpropagation\n",
        "\n",
        "\n",
        "\n",
        "see: https://scikit-learn.org/stable/modules/generated/sklearn.neural_network.MLPClassifier.html\n"
      ]
    },
    {
      "metadata": {
        "id": "fZCDhCazcuT3",
        "colab_type": "code",
        "outputId": "c85675bb-63f9-4288-9d25-0263cb7f435f",
        "colab": {
          "base_uri": "https://localhost:8080/",
          "height": 368
        }
      },
      "cell_type": "code",
      "source": [
        "# Single-layer perceptron (similar to logistic regression)\n",
        "\n",
        "# works for only linearly separable tasks\n",
        "\n",
        "display(mglearn.plots.plot_logistic_regression_graph())"
      ],
      "execution_count": 0,
      "outputs": [
        {
          "output_type": "display_data",
          "data": {
            "text/plain": [
              "<graphviz.dot.Digraph at 0x7f56fb922e48>"
            ],
            "image/svg+xml": "<?xml version=\"1.0\" encoding=\"UTF-8\" standalone=\"no\"?>\n<!DOCTYPE svg PUBLIC \"-//W3C//DTD SVG 1.1//EN\"\n \"http://www.w3.org/Graphics/SVG/1.1/DTD/svg11.dtd\">\n<!-- Generated by graphviz version 2.40.1 (20161225.0304)\n -->\n<!-- Title: %3 Pages: 1 -->\n<svg width=\"177pt\" height=\"261pt\"\n viewBox=\"0.00 0.00 177.00 261.00\" xmlns=\"http://www.w3.org/2000/svg\" xmlns:xlink=\"http://www.w3.org/1999/xlink\">\n<g id=\"graph0\" class=\"graph\" transform=\"scale(1 1) rotate(0) translate(4 257)\">\n<title>%3</title>\n<polygon fill=\"#ffffff\" stroke=\"transparent\" points=\"-4,4 -4,-257 173,-257 173,4 -4,4\"/>\n<g id=\"clust1\" class=\"cluster\">\n<title>cluster_0</title>\n<polygon fill=\"none\" stroke=\"#ffffff\" points=\"8,-8 8,-245 60,-245 60,-8 8,-8\"/>\n<text text-anchor=\"middle\" x=\"34\" y=\"-229.8\" font-family=\"Times,serif\" font-size=\"14.00\" fill=\"#000000\">inputs</text>\n</g>\n<g id=\"clust2\" class=\"cluster\">\n<title>cluster_2</title>\n<polygon fill=\"none\" stroke=\"#ffffff\" points=\"108,-89 108,-164 162,-164 162,-89 108,-89\"/>\n<text text-anchor=\"middle\" x=\"135\" y=\"-148.8\" font-family=\"Times,serif\" font-size=\"14.00\" fill=\"#000000\">output</text>\n</g>\n<!-- x[0] -->\n<g id=\"node1\" class=\"node\">\n<title>x[0]</title>\n<ellipse fill=\"none\" stroke=\"#000000\" cx=\"34\" cy=\"-196\" rx=\"18\" ry=\"18\"/>\n<text text-anchor=\"middle\" x=\"34\" y=\"-192.3\" font-family=\"Times,serif\" font-size=\"14.00\" fill=\"#000000\">x[0]</text>\n</g>\n<!-- y -->\n<g id=\"node5\" class=\"node\">\n<title>y</title>\n<ellipse fill=\"none\" stroke=\"#000000\" cx=\"135\" cy=\"-115\" rx=\"18\" ry=\"18\"/>\n<text text-anchor=\"middle\" x=\"135\" y=\"-111.3\" font-family=\"Times,serif\" font-size=\"14.00\" fill=\"#000000\">y</text>\n</g>\n<!-- x[0]&#45;&gt;y -->\n<g id=\"edge1\" class=\"edge\">\n<title>x[0]&#45;&gt;y</title>\n<path fill=\"none\" stroke=\"#000000\" d=\"M48.0436,-184.7373C64.8331,-171.2725 93.1341,-148.5756 112.8732,-132.7453\"/>\n<polygon fill=\"#000000\" stroke=\"#000000\" points=\"115.1386,-135.415 120.7501,-126.4282 110.7591,-129.9542 115.1386,-135.415\"/>\n<text text-anchor=\"middle\" x=\"84\" y=\"-171.8\" font-family=\"Times,serif\" font-size=\"14.00\" fill=\"#000000\">w[0]</text>\n</g>\n<!-- x[1] -->\n<g id=\"node2\" class=\"node\">\n<title>x[1]</title>\n<ellipse fill=\"none\" stroke=\"#000000\" cx=\"34\" cy=\"-142\" rx=\"18\" ry=\"18\"/>\n<text text-anchor=\"middle\" x=\"34\" y=\"-138.3\" font-family=\"Times,serif\" font-size=\"14.00\" fill=\"#000000\">x[1]</text>\n</g>\n<!-- x[1]&#45;&gt;y -->\n<g id=\"edge2\" class=\"edge\">\n<title>x[1]&#45;&gt;y</title>\n<path fill=\"none\" stroke=\"#000000\" d=\"M51.5929,-137.297C67.0894,-133.1543 89.9083,-127.0542 107.7628,-122.2812\"/>\n<polygon fill=\"#000000\" stroke=\"#000000\" points=\"108.8519,-125.6131 117.6087,-119.6491 107.0441,-118.8505 108.8519,-125.6131\"/>\n<text text-anchor=\"middle\" x=\"84\" y=\"-134.8\" font-family=\"Times,serif\" font-size=\"14.00\" fill=\"#000000\">w[1]</text>\n</g>\n<!-- x[2] -->\n<g id=\"node3\" class=\"node\">\n<title>x[2]</title>\n<ellipse fill=\"none\" stroke=\"#000000\" cx=\"34\" cy=\"-88\" rx=\"18\" ry=\"18\"/>\n<text text-anchor=\"middle\" x=\"34\" y=\"-84.3\" font-family=\"Times,serif\" font-size=\"14.00\" fill=\"#000000\">x[2]</text>\n</g>\n<!-- x[2]&#45;&gt;y -->\n<g id=\"edge3\" class=\"edge\">\n<title>x[2]&#45;&gt;y</title>\n<path fill=\"none\" stroke=\"#000000\" d=\"M51.5929,-92.703C67.0894,-96.8457 89.9083,-102.9458 107.7628,-107.7188\"/>\n<polygon fill=\"#000000\" stroke=\"#000000\" points=\"107.0441,-111.1495 117.6087,-110.3509 108.8519,-104.3869 107.0441,-111.1495\"/>\n<text text-anchor=\"middle\" x=\"84\" y=\"-107.8\" font-family=\"Times,serif\" font-size=\"14.00\" fill=\"#000000\">w[2]</text>\n</g>\n<!-- x[3] -->\n<g id=\"node4\" class=\"node\">\n<title>x[3]</title>\n<ellipse fill=\"none\" stroke=\"#000000\" cx=\"34\" cy=\"-34\" rx=\"18\" ry=\"18\"/>\n<text text-anchor=\"middle\" x=\"34\" y=\"-30.3\" font-family=\"Times,serif\" font-size=\"14.00\" fill=\"#000000\">x[3]</text>\n</g>\n<!-- x[3]&#45;&gt;y -->\n<g id=\"edge4\" class=\"edge\">\n<title>x[3]&#45;&gt;y</title>\n<path fill=\"none\" stroke=\"#000000\" d=\"M48.0436,-45.2627C64.8331,-58.7275 93.1341,-81.4244 112.8732,-97.2547\"/>\n<polygon fill=\"#000000\" stroke=\"#000000\" points=\"110.7591,-100.0458 120.7501,-103.5718 115.1386,-94.585 110.7591,-100.0458\"/>\n<text text-anchor=\"middle\" x=\"84\" y=\"-82.8\" font-family=\"Times,serif\" font-size=\"14.00\" fill=\"#000000\">w[3]</text>\n</g>\n</g>\n</svg>\n"
          },
          "metadata": {
            "tags": []
          }
        }
      ]
    },
    {
      "metadata": {
        "id": "28qvMpR3dHk7",
        "colab_type": "code",
        "outputId": "5fac7969-9815-4b96-80c8-ccc2658a13c4",
        "colab": {
          "base_uri": "https://localhost:8080/",
          "height": 368
        }
      },
      "cell_type": "code",
      "source": [
        "# Multi-layer perceptron\n",
        "\n",
        "# Applicable to non-separable tasks  (universal approximator theorem)\n",
        "\n",
        "display(mglearn.plots.plot_single_hidden_layer_graph())"
      ],
      "execution_count": 0,
      "outputs": [
        {
          "output_type": "display_data",
          "data": {
            "text/plain": [
              "<graphviz.dot.Digraph at 0x7f56f0fb59b0>"
            ],
            "image/svg+xml": "<?xml version=\"1.0\" encoding=\"UTF-8\" standalone=\"no\"?>\n<!DOCTYPE svg PUBLIC \"-//W3C//DTD SVG 1.1//EN\"\n \"http://www.w3.org/Graphics/SVG/1.1/DTD/svg11.dtd\">\n<!-- Generated by graphviz version 2.40.1 (20161225.0304)\n -->\n<!-- Title: %3 Pages: 1 -->\n<svg width=\"257pt\" height=\"261pt\"\n viewBox=\"0.00 0.00 257.00 261.00\" xmlns=\"http://www.w3.org/2000/svg\" xmlns:xlink=\"http://www.w3.org/1999/xlink\">\n<g id=\"graph0\" class=\"graph\" transform=\"scale(1 1) rotate(0) translate(4 257)\">\n<title>%3</title>\n<polygon fill=\"#ffffff\" stroke=\"transparent\" points=\"-4,4 -4,-257 253,-257 253,4 -4,4\"/>\n<g id=\"clust1\" class=\"cluster\">\n<title>cluster_0</title>\n<polygon fill=\"none\" stroke=\"#ffffff\" points=\"8,-8 8,-245 60,-245 60,-8 8,-8\"/>\n<text text-anchor=\"middle\" x=\"34\" y=\"-229.8\" font-family=\"Times,serif\" font-size=\"14.00\" fill=\"#000000\">inputs</text>\n</g>\n<g id=\"clust2\" class=\"cluster\">\n<title>cluster_1</title>\n<polygon fill=\"none\" stroke=\"#ffffff\" points=\"80,-35 80,-218 168,-218 168,-35 80,-35\"/>\n<text text-anchor=\"middle\" x=\"124\" y=\"-202.8\" font-family=\"Times,serif\" font-size=\"14.00\" fill=\"#000000\">hidden layer</text>\n</g>\n<g id=\"clust3\" class=\"cluster\">\n<title>cluster_2</title>\n<polygon fill=\"none\" stroke=\"#ffffff\" points=\"188,-89 188,-164 242,-164 242,-89 188,-89\"/>\n<text text-anchor=\"middle\" x=\"215\" y=\"-148.8\" font-family=\"Times,serif\" font-size=\"14.00\" fill=\"#000000\">output</text>\n</g>\n<!-- x[0] -->\n<g id=\"node1\" class=\"node\">\n<title>x[0]</title>\n<ellipse fill=\"none\" stroke=\"#000000\" cx=\"34\" cy=\"-196\" rx=\"18\" ry=\"18\"/>\n<text text-anchor=\"middle\" x=\"34\" y=\"-192.3\" font-family=\"Times,serif\" font-size=\"14.00\" fill=\"#000000\">x[0]</text>\n</g>\n<!-- h0 -->\n<g id=\"node5\" class=\"node\">\n<title>h0</title>\n<ellipse fill=\"none\" stroke=\"#000000\" cx=\"124\" cy=\"-61\" rx=\"18\" ry=\"18\"/>\n<text text-anchor=\"middle\" x=\"124\" y=\"-57.3\" font-family=\"Times,serif\" font-size=\"14.00\" fill=\"#000000\">h[0]</text>\n</g>\n<!-- x[0]&#45;&gt;h0 -->\n<g id=\"edge1\" class=\"edge\">\n<title>x[0]&#45;&gt;h0</title>\n<path fill=\"none\" stroke=\"#000000\" d=\"M44.1492,-180.7762C59.7464,-157.3804 89.7362,-112.3958 108.1948,-84.7078\"/>\n<polygon fill=\"#000000\" stroke=\"#000000\" points=\"111.1149,-86.6373 113.7498,-76.3753 105.2906,-82.7543 111.1149,-86.6373\"/>\n</g>\n<!-- h1 -->\n<g id=\"node6\" class=\"node\">\n<title>h1</title>\n<ellipse fill=\"none\" stroke=\"#000000\" cx=\"124\" cy=\"-169\" rx=\"18\" ry=\"18\"/>\n<text text-anchor=\"middle\" x=\"124\" y=\"-165.3\" font-family=\"Times,serif\" font-size=\"14.00\" fill=\"#000000\">h[1]</text>\n</g>\n<!-- x[0]&#45;&gt;h1 -->\n<g id=\"edge2\" class=\"edge\">\n<title>x[0]&#45;&gt;h1</title>\n<path fill=\"none\" stroke=\"#000000\" d=\"M51.3529,-190.7941C64.3017,-186.9095 82.2369,-181.5289 97.0466,-177.086\"/>\n<polygon fill=\"#000000\" stroke=\"#000000\" points=\"98.1278,-180.4158 106.7004,-174.1899 96.1164,-173.711 98.1278,-180.4158\"/>\n</g>\n<!-- h2 -->\n<g id=\"node7\" class=\"node\">\n<title>h2</title>\n<ellipse fill=\"none\" stroke=\"#000000\" cx=\"124\" cy=\"-115\" rx=\"18\" ry=\"18\"/>\n<text text-anchor=\"middle\" x=\"124\" y=\"-111.3\" font-family=\"Times,serif\" font-size=\"14.00\" fill=\"#000000\">h[2]</text>\n</g>\n<!-- x[0]&#45;&gt;h2 -->\n<g id=\"edge3\" class=\"edge\">\n<title>x[0]&#45;&gt;h2</title>\n<path fill=\"none\" stroke=\"#000000\" d=\"M47.6691,-183.6978C62.2907,-170.5384 85.6735,-149.4939 102.7099,-134.1611\"/>\n<polygon fill=\"#000000\" stroke=\"#000000\" points=\"105.4056,-136.4437 110.4972,-127.1525 100.7228,-131.2407 105.4056,-136.4437\"/>\n</g>\n<!-- x[1] -->\n<g id=\"node2\" class=\"node\">\n<title>x[1]</title>\n<ellipse fill=\"none\" stroke=\"#000000\" cx=\"34\" cy=\"-142\" rx=\"18\" ry=\"18\"/>\n<text text-anchor=\"middle\" x=\"34\" y=\"-138.3\" font-family=\"Times,serif\" font-size=\"14.00\" fill=\"#000000\">x[1]</text>\n</g>\n<!-- x[1]&#45;&gt;h0 -->\n<g id=\"edge4\" class=\"edge\">\n<title>x[1]&#45;&gt;h0</title>\n<path fill=\"none\" stroke=\"#000000\" d=\"M47.6691,-129.6978C62.2907,-116.5384 85.6735,-95.4939 102.7099,-80.1611\"/>\n<polygon fill=\"#000000\" stroke=\"#000000\" points=\"105.4056,-82.4437 110.4972,-73.1525 100.7228,-77.2407 105.4056,-82.4437\"/>\n</g>\n<!-- x[1]&#45;&gt;h1 -->\n<g id=\"edge5\" class=\"edge\">\n<title>x[1]&#45;&gt;h1</title>\n<path fill=\"none\" stroke=\"#000000\" d=\"M51.3529,-147.2059C64.3017,-151.0905 82.2369,-156.4711 97.0466,-160.914\"/>\n<polygon fill=\"#000000\" stroke=\"#000000\" points=\"96.1164,-164.289 106.7004,-163.8101 98.1278,-157.5842 96.1164,-164.289\"/>\n</g>\n<!-- x[1]&#45;&gt;h2 -->\n<g id=\"edge6\" class=\"edge\">\n<title>x[1]&#45;&gt;h2</title>\n<path fill=\"none\" stroke=\"#000000\" d=\"M51.3529,-136.7941C64.3017,-132.9095 82.2369,-127.5289 97.0466,-123.086\"/>\n<polygon fill=\"#000000\" stroke=\"#000000\" points=\"98.1278,-126.4158 106.7004,-120.1899 96.1164,-119.711 98.1278,-126.4158\"/>\n</g>\n<!-- x[2] -->\n<g id=\"node3\" class=\"node\">\n<title>x[2]</title>\n<ellipse fill=\"none\" stroke=\"#000000\" cx=\"34\" cy=\"-88\" rx=\"18\" ry=\"18\"/>\n<text text-anchor=\"middle\" x=\"34\" y=\"-84.3\" font-family=\"Times,serif\" font-size=\"14.00\" fill=\"#000000\">x[2]</text>\n</g>\n<!-- x[2]&#45;&gt;h0 -->\n<g id=\"edge7\" class=\"edge\">\n<title>x[2]&#45;&gt;h0</title>\n<path fill=\"none\" stroke=\"#000000\" d=\"M51.3529,-82.7941C64.3017,-78.9095 82.2369,-73.5289 97.0466,-69.086\"/>\n<polygon fill=\"#000000\" stroke=\"#000000\" points=\"98.1278,-72.4158 106.7004,-66.1899 96.1164,-65.711 98.1278,-72.4158\"/>\n</g>\n<!-- x[2]&#45;&gt;h1 -->\n<g id=\"edge8\" class=\"edge\">\n<title>x[2]&#45;&gt;h1</title>\n<path fill=\"none\" stroke=\"#000000\" d=\"M47.6691,-100.3022C62.2907,-113.4616 85.6735,-134.5061 102.7099,-149.8389\"/>\n<polygon fill=\"#000000\" stroke=\"#000000\" points=\"100.7228,-152.7593 110.4972,-156.8475 105.4056,-147.5563 100.7228,-152.7593\"/>\n</g>\n<!-- x[2]&#45;&gt;h2 -->\n<g id=\"edge9\" class=\"edge\">\n<title>x[2]&#45;&gt;h2</title>\n<path fill=\"none\" stroke=\"#000000\" d=\"M51.3529,-93.2059C64.3017,-97.0905 82.2369,-102.4711 97.0466,-106.914\"/>\n<polygon fill=\"#000000\" stroke=\"#000000\" points=\"96.1164,-110.289 106.7004,-109.8101 98.1278,-103.5842 96.1164,-110.289\"/>\n</g>\n<!-- x[3] -->\n<g id=\"node4\" class=\"node\">\n<title>x[3]</title>\n<ellipse fill=\"none\" stroke=\"#000000\" cx=\"34\" cy=\"-34\" rx=\"18\" ry=\"18\"/>\n<text text-anchor=\"middle\" x=\"34\" y=\"-30.3\" font-family=\"Times,serif\" font-size=\"14.00\" fill=\"#000000\">x[3]</text>\n</g>\n<!-- x[3]&#45;&gt;h0 -->\n<g id=\"edge10\" class=\"edge\">\n<title>x[3]&#45;&gt;h0</title>\n<path fill=\"none\" stroke=\"#000000\" d=\"M51.3529,-39.2059C64.3017,-43.0905 82.2369,-48.4711 97.0466,-52.914\"/>\n<polygon fill=\"#000000\" stroke=\"#000000\" points=\"96.1164,-56.289 106.7004,-55.8101 98.1278,-49.5842 96.1164,-56.289\"/>\n</g>\n<!-- x[3]&#45;&gt;h1 -->\n<g id=\"edge11\" class=\"edge\">\n<title>x[3]&#45;&gt;h1</title>\n<path fill=\"none\" stroke=\"#000000\" d=\"M44.1492,-49.2238C59.7464,-72.6196 89.7362,-117.6042 108.1948,-145.2922\"/>\n<polygon fill=\"#000000\" stroke=\"#000000\" points=\"105.2906,-147.2457 113.7498,-153.6247 111.1149,-143.3627 105.2906,-147.2457\"/>\n</g>\n<!-- x[3]&#45;&gt;h2 -->\n<g id=\"edge12\" class=\"edge\">\n<title>x[3]&#45;&gt;h2</title>\n<path fill=\"none\" stroke=\"#000000\" d=\"M47.6691,-46.3022C62.2907,-59.4616 85.6735,-80.5061 102.7099,-95.8389\"/>\n<polygon fill=\"#000000\" stroke=\"#000000\" points=\"100.7228,-98.7593 110.4972,-102.8475 105.4056,-93.5563 100.7228,-98.7593\"/>\n</g>\n<!-- y -->\n<g id=\"node8\" class=\"node\">\n<title>y</title>\n<ellipse fill=\"none\" stroke=\"#000000\" cx=\"215\" cy=\"-115\" rx=\"18\" ry=\"18\"/>\n<text text-anchor=\"middle\" x=\"215\" y=\"-111.3\" font-family=\"Times,serif\" font-size=\"14.00\" fill=\"#000000\">y</text>\n</g>\n<!-- h0&#45;&gt;y -->\n<g id=\"edge13\" class=\"edge\">\n<title>h0&#45;&gt;y</title>\n<path fill=\"none\" stroke=\"#000000\" d=\"M139.851,-70.4061C153.8132,-78.6913 174.3728,-90.8916 190.4596,-100.4375\"/>\n<polygon fill=\"#000000\" stroke=\"#000000\" points=\"188.9447,-103.6084 199.3307,-105.7017 192.5169,-97.5885 188.9447,-103.6084\"/>\n</g>\n<!-- h1&#45;&gt;y -->\n<g id=\"edge14\" class=\"edge\">\n<title>h1&#45;&gt;y</title>\n<path fill=\"none\" stroke=\"#000000\" d=\"M139.851,-159.5939C153.8132,-151.3087 174.3728,-139.1084 190.4596,-129.5625\"/>\n<polygon fill=\"#000000\" stroke=\"#000000\" points=\"192.5169,-132.4115 199.3307,-124.2983 188.9447,-126.3916 192.5169,-132.4115\"/>\n</g>\n<!-- h2&#45;&gt;y -->\n<g id=\"edge15\" class=\"edge\">\n<title>h2&#45;&gt;y</title>\n<path fill=\"none\" stroke=\"#000000\" d=\"M142.4152,-115C155.0791,-115 172.1442,-115 186.5459,-115\"/>\n<polygon fill=\"#000000\" stroke=\"#000000\" points=\"186.9228,-118.5001 196.9227,-115 186.9227,-111.5001 186.9228,-118.5001\"/>\n</g>\n</g>\n</svg>\n"
          },
          "metadata": {
            "tags": []
          }
        }
      ]
    },
    {
      "metadata": {
        "id": "XLXVSbyddJ5k",
        "colab_type": "code",
        "outputId": "6193a94e-aedd-4bf6-8d18-952b7f22b8dc",
        "colab": {
          "base_uri": "https://localhost:8080/",
          "height": 301
        }
      },
      "cell_type": "code",
      "source": [
        "# non-linearity functions (sigmoid, tanh, ReLU)\n",
        "\n",
        "line = np.linspace(-3, 3, 100)\n",
        "\n",
        "plt.plot(line, [1/(1+np.exp(-x)) for x in line], label=\"Sigmoid\")\n",
        "plt.plot(line, np.tanh(line), label=\"Tanh\")\n",
        "plt.plot(line, np.maximum(line, 0), label=\"ReLU\")\n",
        "\n",
        "plt.legend(loc=\"best\")\n",
        "plt.xlabel(\"x\")\n",
        "plt.ylabel(\"sigmoid(x), relu(x), tanh(x)\")"
      ],
      "execution_count": 0,
      "outputs": [
        {
          "output_type": "execute_result",
          "data": {
            "text/plain": [
              "Text(0, 0.5, 'sigmoid(x), relu(x), tanh(x)')"
            ]
          },
          "metadata": {
            "tags": []
          },
          "execution_count": 4
        },
        {
          "output_type": "display_data",
          "data": {
            "image/png": "[encoded data removed]",
            "text/plain": [
              "<Figure size 432x288 with 1 Axes>"
            ]
          },
          "metadata": {
            "tags": []
          }
        }
      ]
    },
    {
      "metadata": {
        "id": "vhZV_rJ31mu1",
        "colab_type": "text"
      },
      "cell_type": "markdown",
      "source": [
        "# Classification with MLP"
      ]
    },
    {
      "metadata": {
        "id": "XA656j0GdMWv",
        "colab_type": "code",
        "colab": {}
      },
      "cell_type": "code",
      "source": [
        "# generate data\n",
        "\n",
        "from sklearn.datasets import make_moons\n",
        "X, y = make_moons(n_samples=100, noise=0.25, random_state=3)\n",
        "X_train, X_test, y_train, y_test = train_test_split(X, y, stratify=y,random_state=42)"
      ],
      "execution_count": 0,
      "outputs": []
    },
    {
      "metadata": {
        "id": "pEq7t-t5d42t",
        "colab_type": "code",
        "outputId": "604d7a03-4526-42ab-fb38-2d272e651404",
        "colab": {
          "base_uri": "https://localhost:8080/",
          "height": 284
        }
      },
      "cell_type": "code",
      "source": [
        "# using 100 hidden units  (default)\n",
        "from sklearn.neural_network import MLPClassifier\n",
        "mlp = MLPClassifier(solver='lbfgs', random_state=0).fit(X_train, y_train)   # LBFGS (memory limited BFGS): a quasi Newton optimizing algorithm\n",
        "\n",
        "# visualize MLP\n",
        "mglearn.plots.plot_2d_separator(mlp, X_train, fill=True, alpha=.3)\n",
        "mglearn.discrete_scatter(X_train[:, 0], X_train[:, 1], y_train)\n",
        "plt.xlabel(\"Feature 0\")\n",
        "plt.ylabel(\"Feature 1\")"
      ],
      "execution_count": 0,
      "outputs": [
        {
          "output_type": "execute_result",
          "data": {
            "text/plain": [
              "Text(0, 0.5, 'Feature 1')"
            ]
          },
          "metadata": {
            "tags": []
          },
          "execution_count": 6
        },
        {
          "output_type": "display_data",
          "data": {
            "image/png": "[encoded data removed]",
            "text/plain": [
              "<Figure size 432x288 with 1 Axes>"
            ]
          },
          "metadata": {
            "tags": []
          }
        }
      ]
    },
    {
      "metadata": {
        "id": "bh4bhQ51dSMk",
        "colab_type": "code",
        "outputId": "5203c864-fe69-4f9d-f0a5-3829014d8522",
        "colab": {
          "base_uri": "https://localhost:8080/",
          "height": 284
        }
      },
      "cell_type": "code",
      "source": [
        "# using 10 hidden units\n",
        "\n",
        "mlp = MLPClassifier(solver='lbfgs', random_state=0, hidden_layer_sizes=[10])\n",
        "mlp.fit(X_train, y_train)\n",
        "mglearn.plots.plot_2d_separator(mlp, X_train, fill=True, alpha=.3)\n",
        "mglearn.discrete_scatter(X_train[:, 0], X_train[:, 1], y_train)\n",
        "plt.xlabel(\"Feature 0\")\n",
        "plt.ylabel(\"Feature 1\")"
      ],
      "execution_count": 0,
      "outputs": [
        {
          "output_type": "execute_result",
          "data": {
            "text/plain": [
              "Text(0, 0.5, 'Feature 1')"
            ]
          },
          "metadata": {
            "tags": []
          },
          "execution_count": 7
        },
        {
          "output_type": "display_data",
          "data": {
            "image/png": "[encoded data removed]",
            "text/plain": [
              "<Figure size 432x288 with 1 Axes>"
            ]
          },
          "metadata": {
            "tags": []
          }
        }
      ]
    },
    {
      "metadata": {
        "id": "whp5YokTdVsG",
        "colab_type": "code",
        "outputId": "d13d65a9-4407-403b-8c33-e56c84dbdf4f",
        "colab": {
          "base_uri": "https://localhost:8080/",
          "height": 284
        }
      },
      "cell_type": "code",
      "source": [
        "# using two hidden layers, with 10 units each\n",
        "\n",
        "mlp = MLPClassifier(solver='lbfgs', random_state=0, hidden_layer_sizes=[10, 10])\n",
        "mlp.fit(X_train, y_train)\n",
        "mglearn.plots.plot_2d_separator(mlp, X_train, fill=True, alpha=.3)\n",
        "mglearn.discrete_scatter(X_train[:, 0], X_train[:, 1], y_train)\n",
        "plt.xlabel(\"Feature 0\")\n",
        "plt.ylabel(\"Feature 1\")"
      ],
      "execution_count": 0,
      "outputs": [
        {
          "output_type": "execute_result",
          "data": {
            "text/plain": [
              "Text(0, 0.5, 'Feature 1')"
            ]
          },
          "metadata": {
            "tags": []
          },
          "execution_count": 8
        },
        {
          "output_type": "display_data",
          "data": {
            "image/png": "[encoded data removed]",
            "text/plain": [
              "<Figure size 432x288 with 1 Axes>"
            ]
          },
          "metadata": {
            "tags": []
          }
        }
      ]
    },
    {
      "metadata": {
        "id": "IvKHp_LpdX1x",
        "colab_type": "code",
        "colab": {}
      },
      "cell_type": "code",
      "source": [
        "fig, axes = plt.subplots(2, 4, figsize=(20, 8))\n",
        "for axx, n_hidden_nodes in zip(axes, [10, 100]):\n",
        "  for ax, alpha in zip(axx, [0.0001, 0.01, 0.1, 1]):\n",
        "    mlp = MLPClassifier(solver='lbfgs', random_state=0, hidden_layer_sizes=[n_hidden_nodes, n_hidden_nodes], alpha=alpha)\n",
        "    mlp.fit(X_train, y_train)\n",
        "    mglearn.plots.plot_2d_separator(mlp, X_train, fill=True, alpha=.3, ax=ax)\n",
        "    mglearn.discrete_scatter(X_train[:, 0], X_train[:, 1], y_train, ax=ax)\n",
        "    ax.set_title(\"n_hidden=[{}, {}]\\nalpha={:.4f}\".format(n_hidden_nodes, n_hidden_nodes, alpha))"
      ],
      "execution_count": 0,
      "outputs": []
    },
    {
      "metadata": {
        "id": "lDo5A3lJstga",
        "colab_type": "text"
      },
      "cell_type": "markdown",
      "source": [
        "## Preprocessing data for MLP (standaridzation)"
      ]
    },
    {
      "metadata": {
        "id": "BfCUYFq8e5x0",
        "colab_type": "code",
        "colab": {}
      },
      "cell_type": "code",
      "source": [
        "# load cancer dataset\n",
        "from sklearn.datasets import load_breast_cancer\n",
        "cancer = load_breast_cancer()\n",
        "X_train, X_test, y_train, y_test = train_test_split(cancer.data, cancer.target, random_state=0)"
      ],
      "execution_count": 0,
      "outputs": []
    },
    {
      "metadata": {
        "id": "ereu9avjqdTU",
        "colab_type": "code",
        "colab": {}
      },
      "cell_type": "code",
      "source": [
        "mlp = MLPClassifier(random_state=42)\n",
        "mlp.fit(X_train, y_train)\n",
        "\n",
        "print(\"Accuracy on training set: {:.2f}\".format(mlp.score(X_train, y_train)))\n",
        "print(\"Accuracy on test set: {:.2f}\".format(mlp.score(X_test, y_test)))"
      ],
      "execution_count": 0,
      "outputs": []
    },
    {
      "metadata": {
        "id": "ESnxBREpfEDO",
        "colab_type": "code",
        "colab": {}
      },
      "cell_type": "code",
      "source": [
        "# Normalizing data for MLP\n",
        "\n",
        "# compute the mean value per feature on the training set\n",
        "mean_on_train = X_train.mean(axis=0)\n",
        "std_on_train = X_train.std(axis=0)\n",
        "\n",
        "\n",
        "# subtract the mean, and scale by inverse standard deviation\n",
        "# afterward, mean=0 and std=1\n",
        "X_train_scaled = (X_train - mean_on_train) / std_on_train\n",
        "X_test_scaled = (X_test - mean_on_train) / std_on_train"
      ],
      "execution_count": 0,
      "outputs": []
    },
    {
      "metadata": {
        "id": "fmpr3WPNfM4T",
        "colab_type": "code",
        "colab": {}
      },
      "cell_type": "code",
      "source": [
        "mlp = MLPClassifier(random_state=0)\n",
        "mlp.fit(X_train_scaled, y_train)\n",
        "print(\"Accuracy on training set: {:.3f}\".format(\n",
        "mlp.score(X_train_scaled, y_train)))\n",
        "print(\"Accuracy on test set: {:.3f}\".format(mlp.score(X_test_scaled, y_test)))"
      ],
      "execution_count": 0,
      "outputs": []
    },
    {
      "metadata": {
        "id": "ENeX3E3r2-kp",
        "colab_type": "text"
      },
      "cell_type": "markdown",
      "source": [
        "# Regression with MLP\n",
        "\n",
        "See https://scikit-learn.org/stable/modules/generated/sklearn.neural_network.MLPRegressor.html\n"
      ]
    },
    {
      "metadata": {
        "id": "SpOXS_VL193p",
        "colab_type": "code",
        "colab": {}
      },
      "cell_type": "code",
      "source": [
        "# load data\n",
        "#X, y = mglearn.datasets.make_wave()\n",
        "\n",
        "# generate data along sine wave\n",
        "\n",
        "\n",
        "# generate data\n",
        "X = np.linspace(-3, 3, 100)\n",
        "y = np.sin(X) + np.random.normal(loc=0, scale=0.3,size=len(X))\n",
        "X = np.expand_dims(X, axis=-1)\n",
        "\n",
        "\n",
        "X_train, X_test, y_train, y_test = train_test_split(X, y, random_state=0)\n",
        "\n",
        "# plot data\n",
        "plt.scatter(X_train, y_train, marker='o', label=\"training\")\n",
        "plt.scatter(X_test, y_test, marker='^', label=\"test\")\n",
        "plt.legend()"
      ],
      "execution_count": 0,
      "outputs": []
    },
    {
      "metadata": {
        "id": "HloJ0q0s1-2Y",
        "colab_type": "code",
        "colab": {}
      },
      "cell_type": "code",
      "source": [
        "from sklearn.neural_network import MLPRegressor\n",
        "mlpR = MLPRegressor(activation = 'tanh', hidden_layer_sizes = (100, 100), max_iter=100000).fit(X_train, y_train)\n",
        "\n",
        "\n",
        "# ridge regression for comparison\n",
        "from sklearn.linear_model import Ridge\n",
        "ridge = Ridge().fit(X_train,y_train)\n",
        "\n",
        "print(\"Training set score: {:.2f}\".format(mlpR.score(X_train, y_train)))\n",
        "print(\"Test set score: {:.2f}\".format(mlpR.score(X_test, y_test)))\n",
        "\n",
        "import matplotlib.pyplot as plt\n",
        "\n",
        "# plot data\n",
        "plt.scatter(X_train, y_train, marker='o', label=\"training\")\n",
        "plt.scatter(X_test, y_test, marker='^', label=\"test\")\n",
        "\n",
        "# plot prediction by MLP regressor\n",
        "line = np.linspace(-3, 3, 100)\n",
        "line = np.expand_dims(line, axis=-1)        # mlpR input should be an array of rank 2\n",
        "line_MLP = mlpR.predict(line)\n",
        "plt.scatter(line, line_MLP, marker='*', label=\"prediction by MLP\")\n",
        "\n",
        "\n",
        "# for comparison, plot prediction by Ridge regressor\n",
        "line_ridge = ridge.predict(line)\n",
        "plt.scatter(line, line_ridge, marker='.', label=\"prediction by ridge\")\n",
        "\n",
        "plt.legend()"
      ],
      "execution_count": 0,
      "outputs": []
    },
    {
      "metadata": {
        "id": "Y4V76Ju8481y",
        "colab_type": "code",
        "colab": {}
      },
      "cell_type": "code",
      "source": [
        ""
      ],
      "execution_count": 0,
      "outputs": []
    }
  ]
}