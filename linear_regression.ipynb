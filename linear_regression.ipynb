{
  "nbformat": 4,
  "nbformat_minor": 0,
  "metadata": {
    "colab": {
      "name": "linear_regression.ipynb",
      "version": "0.3.2",
      "provenance": [],
      "collapsed_sections": [],
      "include_colab_link": true
    },
    "kernelspec": {
      "name": "python3",
      "display_name": "Python 3"
    }
  },
  "cells": [
    {
      "cell_type": "markdown",
      "metadata": {
        "id": "view-in-github",
        "colab_type": "text"
      },
      "source": [
        "<a href=\"https://colab.research.google.com/github/callee2006/MachineLearning/blob/master/linear_regression.ipynb\" target=\"_parent\"><img src=\"https://colab.research.google.com/assets/colab-badge.svg\" alt=\"Open In Colab\"/></a>"
      ]
    },
    {
      "metadata": {
        "id": "fzHEwOGyzQQb",
        "colab_type": "text"
      },
      "cell_type": "markdown",
      "source": [
        "This file contains practice examples of the following topics:\n",
        "\n",
        "* Linear Regression\t\n",
        "  - Linear regression\n",
        "  - Ridge ($L_2$ regularization)\n",
        "  - Lasso ($L_1$ regularization)\n",
        "  - ElasticNet ($L_1$ + $L_2$ regularization)\n",
        "\t\n",
        "* Linear Classification\t\n",
        "  -\tLogistic regression\n",
        "\n",
        "(Most of the contents and code are from \"Introduction to Machine Learning with Python\" by Andreas C. Müller & Sarah Guido)"
      ]
    },
    {
      "metadata": {
        "id": "sTzTGF7wWVGh",
        "colab_type": "code",
        "colab": {
          "base_uri": "https://localhost:8080/",
          "height": 323
        },
        "outputId": "92c50e7a-1554-481a-abf4-3c8bb26a2ec0"
      },
      "cell_type": "code",
      "source": [
        "! nvidia-smi"
      ],
      "execution_count": 33,
      "outputs": [
        {
          "output_type": "stream",
          "text": [
            "Tue Apr 30 03:46:04 2019       \n",
            "+-----------------------------------------------------------------------------+\n",
            "| NVIDIA-SMI 418.56       Driver Version: 410.79       CUDA Version: 10.0     |\n",
            "|-------------------------------+----------------------+----------------------+\n",
            "| GPU  Name        Persistence-M| Bus-Id        Disp.A | Volatile Uncorr. ECC |\n",
            "| Fan  Temp  Perf  Pwr:Usage/Cap|         Memory-Usage | GPU-Util  Compute M. |\n",
            "|===============================+======================+======================|\n",
            "|   0  Tesla T4            Off  | 00000000:00:04.0 Off |                    0 |\n",
            "| N/A   56C    P8    16W /  70W |      0MiB / 15079MiB |      0%      Default |\n",
            "+-------------------------------+----------------------+----------------------+\n",
            "                                                                               \n",
            "+-----------------------------------------------------------------------------+\n",
            "| Processes:                                                       GPU Memory |\n",
            "|  GPU       PID   Type   Process name                             Usage      |\n",
            "|=============================================================================|\n",
            "|  No running processes found                                                 |\n",
            "+-----------------------------------------------------------------------------+\n"
          ],
          "name": "stdout"
        }
      ]
    },
    {
      "metadata": {
        "id": "nIn3aQngJ7q8",
        "colab_type": "code",
        "outputId": "c8890d70-e497-4615-aa72-3e95036716b7",
        "colab": {
          "base_uri": "https://localhost:8080/",
          "height": 469
        }
      },
      "cell_type": "code",
      "source": [
        "! pip install mglearn\n",
        "\n",
        "import numpy as np\n",
        "import sklearn as sk\n",
        "from sklearn.model_selection import train_test_split\n",
        "\n",
        "import matplotlib.pyplot as plt\n",
        "import mglearn"
      ],
      "execution_count": 1,
      "outputs": [
        {
          "output_type": "stream",
          "text": [
            "Collecting mglearn\n",
            "\u001b[?25l  Downloading https://files.pythonhosted.org/packages/fb/01/8d3630ecc767c9de96a9c46e055f2a3a5f9e14a47d3d0348a36a5005fe67/mglearn-0.1.7.tar.gz (540kB)\n",
            "\u001b[K     |████████████████████████████████| 542kB 36.3MB/s \n",
            "\u001b[?25hRequirement already satisfied: numpy in /usr/local/lib/python3.6/dist-packages (from mglearn) (1.16.3)\n",
            "Requirement already satisfied: matplotlib in /usr/local/lib/python3.6/dist-packages (from mglearn) (3.0.3)\n",
            "Requirement already satisfied: scikit-learn in /usr/local/lib/python3.6/dist-packages (from mglearn) (0.20.3)\n",
            "Requirement already satisfied: pandas in /usr/local/lib/python3.6/dist-packages (from mglearn) (0.24.2)\n",
            "Requirement already satisfied: pillow in /usr/local/lib/python3.6/dist-packages (from mglearn) (4.3.0)\n",
            "Requirement already satisfied: cycler in /usr/local/lib/python3.6/dist-packages (from mglearn) (0.10.0)\n",
            "Requirement already satisfied: imageio in /usr/local/lib/python3.6/dist-packages (from mglearn) (2.4.1)\n",
            "Requirement already satisfied: kiwisolver>=1.0.1 in /usr/local/lib/python3.6/dist-packages (from matplotlib->mglearn) (1.1.0)\n",
            "Requirement already satisfied: python-dateutil>=2.1 in /usr/local/lib/python3.6/dist-packages (from matplotlib->mglearn) (2.5.3)\n",
            "Requirement already satisfied: pyparsing!=2.0.4,!=2.1.2,!=2.1.6,>=2.0.1 in /usr/local/lib/python3.6/dist-packages (from matplotlib->mglearn) (2.4.0)\n",
            "Requirement already satisfied: scipy>=0.13.3 in /usr/local/lib/python3.6/dist-packages (from scikit-learn->mglearn) (1.2.1)\n",
            "Requirement already satisfied: pytz>=2011k in /usr/local/lib/python3.6/dist-packages (from pandas->mglearn) (2018.9)\n",
            "Requirement already satisfied: olefile in /usr/local/lib/python3.6/dist-packages (from pillow->mglearn) (0.46)\n",
            "Requirement already satisfied: six in /usr/local/lib/python3.6/dist-packages (from cycler->mglearn) (1.12.0)\n",
            "Requirement already satisfied: setuptools in /usr/local/lib/python3.6/dist-packages (from kiwisolver>=1.0.1->matplotlib->mglearn) (41.0.1)\n",
            "Building wheels for collected packages: mglearn\n",
            "  Building wheel for mglearn (setup.py) ... \u001b[?25l\u001b[?25hdone\n",
            "  Stored in directory: /root/.cache/pip/wheels/74/cf/8d/04f4932d15854a36726c6210763c7127e62de28f5c8ddfcf3b\n",
            "Successfully built mglearn\n",
            "Installing collected packages: mglearn\n",
            "Successfully installed mglearn-0.1.7\n"
          ],
          "name": "stdout"
        }
      ]
    },
    {
      "metadata": {
        "colab_type": "text",
        "id": "b8Tof_xy9ryB"
      },
      "cell_type": "markdown",
      "source": [
        "# Linear regression\n",
        "\n",
        ">$\\hat{y}=wx + b$\n",
        "\n",
        ">$\\hat{y}=w_1x_1+ w_2x_2+ ...+ b$\n",
        "\n",
        ">$Loss_{linear} = \\frac{1}{2N} \\sum_i{(\\hat{y}-y)^2}$\n",
        "(least square)\n",
        "\n",
        "See https://scikit-learn.org/stable/modules/generated/sklearn.linear_model.LinearRegression.html"
      ]
    },
    {
      "metadata": {
        "id": "va04ZHqD-yDw",
        "colab_type": "text"
      },
      "cell_type": "markdown",
      "source": [
        "## Linear regression on wave dataset"
      ]
    },
    {
      "metadata": {
        "id": "L-PFWfbD9u2p",
        "colab_type": "code",
        "outputId": "fcfdc2dc-b679-4240-d831-5d2f6357697e",
        "colab": {
          "base_uri": "https://localhost:8080/",
          "height": 465
        }
      },
      "cell_type": "code",
      "source": [
        "mglearn.plots.plot_linear_regression_wave()"
      ],
      "execution_count": 2,
      "outputs": [
        {
          "output_type": "stream",
          "text": [
            "w[0]: 0.393906  b: -0.031804\n"
          ],
          "name": "stdout"
        },
        {
          "output_type": "display_data",
          "data": {
            "image/png": "[encoded data removed]",
            "text/plain": [
              "<Figure size 576x576 with 1 Axes>"
            ]
          },
          "metadata": {
            "tags": []
          }
        }
      ]
    },
    {
      "metadata": {
        "id": "65N_tdUc92Q2",
        "colab_type": "code",
        "colab": {}
      },
      "cell_type": "code",
      "source": [
        "from sklearn.linear_model import LinearRegression\n",
        "\n",
        "# creates wave data\n",
        "X, y = mglearn.datasets.make_wave(n_samples=60)\n",
        "\n",
        "# split into training set and test set\n",
        "X_train, X_test, y_train, y_test = train_test_split(X, y, random_state=42)"
      ],
      "execution_count": 0,
      "outputs": []
    },
    {
      "metadata": {
        "id": "wumW0e_4-BVS",
        "colab_type": "code",
        "outputId": "a5040d95-a499-4ab1-ec44-73e1ded1b671",
        "colab": {
          "base_uri": "https://localhost:8080/",
          "height": 53
        }
      },
      "cell_type": "code",
      "source": [
        "# regression (parameter estimation)\n",
        "lr = LinearRegression().fit(X_train, y_train)\n",
        "\n",
        "# check coeeficients and intercept\n",
        "print(\"lr.coef_: \", lr.coef_)             # W\n",
        "print(\"lr.intercept_:\", lr.intercept_)      # b"
      ],
      "execution_count": 4,
      "outputs": [
        {
          "output_type": "stream",
          "text": [
            "lr.coef_:  [0.39390555]\n",
            "lr.intercept_: -0.031804343026759746\n"
          ],
          "name": "stdout"
        }
      ]
    },
    {
      "metadata": {
        "id": "KuMJWnPt4Kqd",
        "colab_type": "text"
      },
      "cell_type": "markdown",
      "source": [
        "score() Returns the coefficient of determination $R^2$ of the prediction $(1-u/v)$\n",
        " \n",
        " $u=\\sum(\\hat{y}-y)^2$ and $v=\\sum(y-\\bar{y})$, where $\\bar{y}$ is the mean of $y$\n",
        "  "
      ]
    },
    {
      "metadata": {
        "id": "Z_iqvTiT-DHM",
        "colab_type": "code",
        "outputId": "e4ccea59-d8ab-4d1b-81f1-9dc03ae10839",
        "colab": {
          "base_uri": "https://localhost:8080/",
          "height": 53
        }
      },
      "cell_type": "code",
      "source": [
        "# evaluation\n",
        "print(\"Training set score: {:.2f}\".format(lr.score(X_train, y_train)))\n",
        "print(\"Test set score: {:.2f}\".format(lr.score(X_test, y_test)))"
      ],
      "execution_count": 5,
      "outputs": [
        {
          "output_type": "stream",
          "text": [
            "Training set score: 0.67\n",
            "Test set score: 0.66\n"
          ],
          "name": "stdout"
        }
      ]
    },
    {
      "metadata": {
        "id": "IUhEYkTxAZ2P",
        "colab_type": "text"
      },
      "cell_type": "markdown",
      "source": [
        "## Linear regression on Boston house price data"
      ]
    },
    {
      "metadata": {
        "id": "9TPeDRtZ-phA",
        "colab_type": "code",
        "outputId": "707c0195-a2a1-49d7-dd48-a61648aac79f",
        "colab": {
          "base_uri": "https://localhost:8080/",
          "height": 89
        }
      },
      "cell_type": "code",
      "source": [
        "# load boston data\n",
        "X, y = mglearn.datasets.load_extended_boston()\n",
        "\n",
        "# split into training set and test set\n",
        "X_train, X_test, y_train, y_test = train_test_split(X, y, random_state=0)\n",
        "print(\"X_train.shape =\", X_train.shape)\n",
        "print(\"y_train.shape =\", y_train.shape)\n",
        "print(\"X_test.shape =\", X_test.shape)\n",
        "print(\"y_test.shape =\", y_test.shape)"
      ],
      "execution_count": 6,
      "outputs": [
        {
          "output_type": "stream",
          "text": [
            "X_train.shape = (379, 104)\n",
            "y_train.shape = (379,)\n",
            "X_test.shape = (127, 104)\n",
            "y_test.shape = (127,)\n"
          ],
          "name": "stdout"
        }
      ]
    },
    {
      "metadata": {
        "id": "b-AAALUUA1mX",
        "colab_type": "code",
        "outputId": "c97640c4-5043-44d7-b933-512e17312ac2",
        "colab": {
          "base_uri": "https://localhost:8080/",
          "height": 503
        }
      },
      "cell_type": "code",
      "source": [
        "# create object \n",
        "lr = LinearRegression()\n",
        "\n",
        "# train\n",
        "lr.fit(X_train, y_train)\n",
        "\n",
        "# the above two statements can be combined as the next line\n",
        "# lr = LinearRegression().fit(X_train, y_train)\n",
        "\n",
        "# check coefficients and intercept\n",
        "print(\"lr.coef_:\", lr.coef_)             # w\n",
        "print(\"lr.intercept_:\", lr.intercept_)   # b"
      ],
      "execution_count": 7,
      "outputs": [
        {
          "output_type": "stream",
          "text": [
            "lr.coef_: [-4.12710947e+02 -5.22432068e+01 -1.31898815e+02 -1.20041365e+01\n",
            " -1.55107129e+01  2.87163342e+01  5.47040992e+01 -4.95346659e+01\n",
            "  2.65823927e+01  3.70620316e+01 -1.18281674e+01 -1.80581965e+01\n",
            " -1.95246830e+01  1.22025403e+01  2.98078144e+03  1.50084257e+03\n",
            "  1.14187325e+02 -1.69700520e+01  4.09613691e+01 -2.42636646e+01\n",
            "  5.76157466e+01  1.27812142e+03 -2.23986944e+03  2.22825472e+02\n",
            " -2.18201083e+00  4.29960320e+01 -1.33981515e+01 -1.93893485e+01\n",
            " -2.57541277e+00 -8.10130128e+01  9.66019367e+00  4.91423718e+00\n",
            " -8.12114800e-01 -7.64694179e+00  3.37837099e+01 -1.14464390e+01\n",
            "  6.85083979e+01 -1.73753604e+01  4.28128204e+01  1.13988209e+00\n",
            " -7.72696840e-01  5.68255921e+01  1.42875996e+01  5.39551110e+01\n",
            " -3.21709644e+01  1.92709675e+01 -1.38852338e+01  6.06343266e+01\n",
            " -1.23153942e+01 -1.20041365e+01 -1.77243899e+01 -3.39868183e+01\n",
            "  7.08999816e+00 -9.22538241e+00  1.71980268e+01 -1.27718431e+01\n",
            " -1.19727581e+01  5.73871915e+01 -1.75331865e+01  4.10103194e+00\n",
            "  2.93666477e+01 -1.76611772e+01  7.84049424e+01 -3.19098015e+01\n",
            "  4.81752461e+01 -3.95344813e+01  5.22959055e+00  2.19982410e+01\n",
            "  2.56483934e+01 -4.99982035e+01  2.91457545e+01  8.94267456e+00\n",
            " -7.16599297e+01 -2.28147862e+01  8.40660981e+00 -5.37905422e+00\n",
            "  1.20137322e+00 -5.20877186e+00  4.11452351e+01 -3.78250760e+01\n",
            " -2.67163851e+00 -2.55217108e+01 -3.33982030e+01  4.62272693e+01\n",
            " -2.41509169e+01 -1.77532970e+01 -1.39723701e+01 -2.35522208e+01\n",
            "  3.68353800e+01 -9.46890859e+01  1.44302810e+02 -1.51158659e+01\n",
            " -1.49513436e+01 -2.87729579e+01 -3.17673192e+01  2.49551594e+01\n",
            " -1.84384534e+01  3.65073948e+00  1.73101122e+00  3.53617137e+01\n",
            "  1.19553429e+01  6.77025947e-01  2.73452009e+00  3.03720012e+01]\n",
            "lr.intercept_: 30.934563673645666\n"
          ],
          "name": "stdout"
        }
      ]
    },
    {
      "metadata": {
        "id": "KWUp8R6EA5mV",
        "colab_type": "code",
        "outputId": "7a18c920-f337-4807-b12b-39eab3b06d18",
        "colab": {
          "base_uri": "https://localhost:8080/",
          "height": 53
        }
      },
      "cell_type": "code",
      "source": [
        "# Performance evaluation\n",
        "print(\"Training score: {:.2f}\".format(lr.score(X_train, y_train)))\n",
        "print(\"Test score: {:.2f}\".format(lr.score(X_test, y_test)))"
      ],
      "execution_count": 8,
      "outputs": [
        {
          "output_type": "stream",
          "text": [
            "Training score: 0.95\n",
            "Test score: 0.61\n"
          ],
          "name": "stdout"
        }
      ]
    },
    {
      "metadata": {
        "id": "Z6incDSiEOCG",
        "colab_type": "text"
      },
      "cell_type": "markdown",
      "source": [
        "==> Big difference between training accuracy and test accuracy: overfitting"
      ]
    },
    {
      "metadata": {
        "id": "D3g4o-q8CTQ6",
        "colab_type": "text"
      },
      "cell_type": "markdown",
      "source": [
        "## Ridge regression\n",
        "\n",
        "> linear regression + L2 regularization\n",
        "\n",
        "> $Loss_{ridge} = \\frac{1}{2N} \\sum_i{(\\hat{y}-y)^2}+\\alpha |W|^2$\n",
        "\n",
        "\n",
        "See https://scikit-learn.org/stable/modules/generated/sklearn.linear_model.Ridge.html"
      ]
    },
    {
      "metadata": {
        "id": "z2dbfVjeBF0j",
        "colab_type": "code",
        "colab": {}
      },
      "cell_type": "code",
      "source": [
        "from sklearn.linear_model import Ridge"
      ],
      "execution_count": 0,
      "outputs": []
    },
    {
      "metadata": {
        "id": "T5bqcf-pD6_b",
        "colab_type": "code",
        "colab": {}
      },
      "cell_type": "code",
      "source": [
        "ridge = Ridge().fit(X_train, y_train)           # by default, alpha = 1"
      ],
      "execution_count": 0,
      "outputs": []
    },
    {
      "metadata": {
        "id": "5XF6Eo_8D_CL",
        "colab_type": "code",
        "colab": {}
      },
      "cell_type": "code",
      "source": [
        "#print(\"ridge.coef_: {}\".format(ridge.coef_))             # w\n",
        "#print(\"ridge.intercept_: {}\".format(ridge.intercept_))   # b"
      ],
      "execution_count": 0,
      "outputs": []
    },
    {
      "metadata": {
        "id": "seWbwxq2D8M9",
        "colab_type": "code",
        "outputId": "b5f34cc1-44c1-4f5b-c2bc-083bb0925991",
        "colab": {
          "base_uri": "https://localhost:8080/",
          "height": 53
        }
      },
      "cell_type": "code",
      "source": [
        "print(\"Training score: {:.2f}\".format(ridge.score(X_train, y_train)))\n",
        "print(\"Test score: {:.2f}\".format(ridge.score(X_test, y_test)))"
      ],
      "execution_count": 12,
      "outputs": [
        {
          "output_type": "stream",
          "text": [
            "Training score: 0.89\n",
            "Test score: 0.75\n"
          ],
          "name": "stdout"
        }
      ]
    },
    {
      "metadata": {
        "id": "koGC9RCVEYn2",
        "colab_type": "text"
      },
      "cell_type": "markdown",
      "source": [
        "Lower training accuracy, but higher test accuracy"
      ]
    },
    {
      "metadata": {
        "id": "I5w4Bo1rEYKz",
        "colab_type": "code",
        "outputId": "fac1f360-26de-4a01-f554-8ef099680ebc",
        "colab": {
          "base_uri": "https://localhost:8080/",
          "height": 53
        }
      },
      "cell_type": "code",
      "source": [
        "# applying higher alpha  --> too strong constraint\n",
        "ridge10 = Ridge(alpha=10).fit(X_train, y_train)\n",
        "\n",
        "print(\"Training score: {:.2f}\".format(ridge10.score(X_train, y_train)))\n",
        "print(\"Test score: {:.2f}\".format(ridge10.score(X_test, y_test)))"
      ],
      "execution_count": 13,
      "outputs": [
        {
          "output_type": "stream",
          "text": [
            "Training score: 0.79\n",
            "Test score: 0.64\n"
          ],
          "name": "stdout"
        }
      ]
    },
    {
      "metadata": {
        "id": "0f7d0UwQFDHv",
        "colab_type": "code",
        "outputId": "dfb0fa60-4150-42af-b198-c2736b3331d9",
        "colab": {
          "base_uri": "https://localhost:8080/",
          "height": 53
        }
      },
      "cell_type": "code",
      "source": [
        "# applying low alpha    --> appropriate constraint\n",
        "ridge01 = Ridge(alpha=0.1).fit(X_train, y_train)\n",
        "\n",
        "print(\"Training score: {:.2f}\".format(ridge01.score(X_train, y_train)))\n",
        "print(\"Test score: {:.2f}\".format(ridge01.score(X_test, y_test)))"
      ],
      "execution_count": 14,
      "outputs": [
        {
          "output_type": "stream",
          "text": [
            "Training score: 0.93\n",
            "Test score: 0.77\n"
          ],
          "name": "stdout"
        }
      ]
    },
    {
      "metadata": {
        "id": "W_D4vLvUFMAt",
        "colab_type": "code",
        "outputId": "0505a7fc-4f00-428b-f6ab-f8ed3ebb426e",
        "colab": {
          "base_uri": "https://localhost:8080/",
          "height": 301
        }
      },
      "cell_type": "code",
      "source": [
        "# coefficient magnitude\n",
        "plt.plot(ridge01.coef_, 'v', label=\"Ridge alpha=0.1\")\n",
        "plt.plot(ridge.coef_, 's', label=\"Ridge alpha=1\")\n",
        "plt.plot(ridge10.coef_, '^', label=\"Ridge alpha=10\")\n",
        "plt.plot(lr.coef_, 'o', label=\"LinearRegression\")\n",
        "plt.xlabel(\"Coefficient index\")\n",
        "plt.ylabel(\"Coefficient magnitude\")\n",
        "plt.hlines(0, 0, len(lr.coef_))\n",
        "plt.ylim(-25, 25)\n",
        "plt.legend()"
      ],
      "execution_count": 15,
      "outputs": [
        {
          "output_type": "execute_result",
          "data": {
            "text/plain": [
              "<matplotlib.legend.Legend at 0x7fd984b577b8>"
            ]
          },
          "metadata": {
            "tags": []
          },
          "execution_count": 15
        },
        {
          "output_type": "display_data",
          "data": {
            "image/png": "[encoded data removed]",
            "text/plain": [
              "<Figure size 432x288 with 1 Axes>"
            ]
          },
          "metadata": {
            "tags": []
          }
        }
      ]
    },
    {
      "metadata": {
        "id": "377I-CihF3iS",
        "colab_type": "text"
      },
      "cell_type": "markdown",
      "source": [
        "## Lasso regression\n",
        "\n",
        "> linear regression + L1 regularization\n",
        "\n",
        "> $Loss_{lasso}=\\frac{1}{2N} \\sum_i{(\\hat{y}-y)^2} +\\alpha |W|$\n",
        "\n",
        "\n",
        "See https://scikit-learn.org/stable/modules/generated/sklearn.linear_model.Ridge.html"
      ]
    },
    {
      "metadata": {
        "id": "e3BsBAe8SJHV",
        "colab_type": "code",
        "colab": {}
      },
      "cell_type": "code",
      "source": [
        "from sklearn.linear_model import Lasso"
      ],
      "execution_count": 0,
      "outputs": []
    },
    {
      "metadata": {
        "id": "D87pcTGxFiKo",
        "colab_type": "code",
        "outputId": "4c3396c6-5282-4449-c91e-e464badf3ac3",
        "colab": {
          "base_uri": "https://localhost:8080/",
          "height": 71
        }
      },
      "cell_type": "code",
      "source": [
        "# by default, alpha = 1\n",
        "lasso = Lasso().fit(X_train, y_train)         # default alpha = 1, severe underfitting\n",
        "print(\"Training score: {:.2f}\".format(lasso.score(X_train, y_train)))\n",
        "print(\"Test score: {:.2f}\".format(lasso.score(X_test, y_test)))\n",
        "print(\"Number of features used:\", np.sum(lasso.coef_ != 0))"
      ],
      "execution_count": 17,
      "outputs": [
        {
          "output_type": "stream",
          "text": [
            "Training score: 0.29\n",
            "Test score: 0.21\n",
            "Number of features used: 4\n"
          ],
          "name": "stdout"
        }
      ]
    },
    {
      "metadata": {
        "id": "zWSRtuO1GHP-",
        "colab_type": "code",
        "outputId": "a32cc321-78e9-4794-911a-f2a20b5ccaeb",
        "colab": {
          "base_uri": "https://localhost:8080/",
          "height": 71
        }
      },
      "cell_type": "code",
      "source": [
        "# Lasso with alpha = 0.01\n",
        "lasso001 = Lasso(0.01, max_iter=100000).fit(X_train, y_train)\n",
        "print(\"Training score: {:.2f}\".format(lasso001.score(X_train, y_train)))\n",
        "print(\"Test score: {:.2f}\".format(lasso001.score(X_test, y_test)))\n",
        "print(\"Number of features used:\", np.sum(lasso001.coef_ != 0))"
      ],
      "execution_count": 18,
      "outputs": [
        {
          "output_type": "stream",
          "text": [
            "Training score: 0.90\n",
            "Test score: 0.77\n",
            "Number of features used: 33\n"
          ],
          "name": "stdout"
        }
      ]
    },
    {
      "metadata": {
        "id": "QUi3xMVgGVUj",
        "colab_type": "code",
        "outputId": "9f3deaa3-bc63-47a5-bf4a-fb11ef9ef461",
        "colab": {
          "base_uri": "https://localhost:8080/",
          "height": 71
        }
      },
      "cell_type": "code",
      "source": [
        "# Lasso with alpha = 0.0001\n",
        "lasso0001 = Lasso(0.0001, max_iter=100000).fit(X_train, y_train)\n",
        "print(\"Training score: {:.2f}\".format(lasso0001.score(X_train, y_train)))\n",
        "print(\"Test score: {:.2f}\".format(lasso0001.score(X_test, y_test)))\n",
        "print(\"Number of features used:\", np.sum(lasso0001.coef_ != 0))"
      ],
      "execution_count": 19,
      "outputs": [
        {
          "output_type": "stream",
          "text": [
            "Training score: 0.95\n",
            "Test score: 0.64\n",
            "Number of features used: 96\n"
          ],
          "name": "stdout"
        }
      ]
    },
    {
      "metadata": {
        "id": "iSL1a8aDGqg9",
        "colab_type": "code",
        "outputId": "fcfc4eb3-8e9e-4104-e3f3-2d7d461d13f6",
        "colab": {
          "base_uri": "https://localhost:8080/",
          "height": 341
        }
      },
      "cell_type": "code",
      "source": [
        "plt.plot(lasso0001.coef_, 'v', label=\"Lasso alpha=0.0001\")\n",
        "plt.plot(lasso001.coef_, '^', label=\"Lasso alpha=0.01\")\n",
        "plt.plot(lasso.coef_, 's', label=\"Lasso alpha=1\")\n",
        "\n",
        "#plt.plot(ridge01.coef_, 'o', label=\"Ridge alpha=0.1\")\n",
        "plt.legend(ncol=2, loc=(0, 1.05))\n",
        "plt.ylim(-25, 25)\n",
        "plt.xlabel(\"Coefficient index\")\n",
        "plt.ylabel(\"Coefficient magnitude\")"
      ],
      "execution_count": 20,
      "outputs": [
        {
          "output_type": "execute_result",
          "data": {
            "text/plain": [
              "Text(0, 0.5, 'Coefficient magnitude')"
            ]
          },
          "metadata": {
            "tags": []
          },
          "execution_count": 20
        },
        {
          "output_type": "display_data",
          "data": {
            "image/png": "[encoded data removed]",
            "text/plain": [
              "<Figure size 432x288 with 1 Axes>"
            ]
          },
          "metadata": {
            "tags": []
          }
        }
      ]
    },
    {
      "metadata": {
        "id": "iVAiTvloIGI6",
        "colab_type": "text"
      },
      "cell_type": "markdown",
      "source": [
        "## ElasticNet regression\n",
        "\n",
        "> linear regression + L1 regularization + L2 regularization\n",
        "\n",
        "\n",
        "> $Loss_{elastic\\_net}=\\frac{1}{2N} \\sum_i{(\\hat{y}-y)^2} +a |W| +\\frac{1}{2}b|W|^2$\n",
        "\n",
        "> $Loss_{elastic\\_net}=\\frac{1}{2N} \\sum_i{(\\hat{y}-y)^2} +\\alpha\\cdot \\lambda |W| +\\frac{1}{2} \\alpha\\cdot(1-\\lambda)|W|^2$\n",
        "\n",
        " - $\\alpha$: weight of regularization (L1 + L2)\n",
        " - $\\lambda$: ratio of L1 regularization ($0 \\leq\\lambda\\leq 1$)\n",
        "\n",
        " - $\\alpha = a + b$, $\\lambda = \\frac{a}{a+b}$\n",
        "\n",
        "\n",
        "See https://scikit-learn.org/stable/modules/generated/sklearn.linear_model.ElasticNet.html"
      ]
    },
    {
      "metadata": {
        "id": "X7LJsZi3iLE7",
        "colab_type": "code",
        "colab": {}
      },
      "cell_type": "code",
      "source": [
        "from sklearn.linear_model import ElasticNet"
      ],
      "execution_count": 0,
      "outputs": []
    },
    {
      "metadata": {
        "id": "WE0dNRNpiiFX",
        "colab_type": "code",
        "outputId": "c0f68ff4-1828-4e5d-83fd-aab5bdf85b42",
        "colab": {
          "base_uri": "https://localhost:8080/",
          "height": 71
        }
      },
      "cell_type": "code",
      "source": [
        "# by default, alpha = 1, l1_ratio = 0.5\n",
        "elastic_net = ElasticNet().fit(X_train, y_train)\n",
        "print(\"Training score: {:.2f}\".format(elastic_net.score(X_train, y_train)))\n",
        "print(\"Test score: {:.2f}\".format(elastic_net.score(X_test, y_test)))\n",
        "print(\"Number of features used:\", np.sum(elastic_net.coef_ != 0))"
      ],
      "execution_count": 22,
      "outputs": [
        {
          "output_type": "stream",
          "text": [
            "Training score: 0.33\n",
            "Test score: 0.22\n",
            "Number of features used: 38\n"
          ],
          "name": "stdout"
        }
      ]
    },
    {
      "metadata": {
        "id": "__lLPqsxjtfK",
        "colab_type": "code",
        "outputId": "4bec8816-1399-4106-ece3-fe278373da0f",
        "colab": {
          "base_uri": "https://localhost:8080/",
          "height": 71
        }
      },
      "cell_type": "code",
      "source": [
        "# alpha = 0.01\n",
        "elastic_net001 = ElasticNet(alpha=0.01, l1_ratio = 0.5).fit(X_train, y_train)\n",
        "print(\"Training set score: {:.2f}\".format(elastic_net001.score(X_train, y_train)))\n",
        "print(\"Test set score: {:.2f}\".format(elastic_net001.score(X_test, y_test)))\n",
        "print(\"Number of features used:\", np.sum(elastic_net001.coef_ != 0))"
      ],
      "execution_count": 23,
      "outputs": [
        {
          "output_type": "stream",
          "text": [
            "Training set score: 0.86\n",
            "Test set score: 0.72\n",
            "Number of features used: 84\n"
          ],
          "name": "stdout"
        }
      ]
    },
    {
      "metadata": {
        "id": "0L62piK-kVDE",
        "colab_type": "code",
        "outputId": "9b9e7f04-21e3-4f96-cbba-d2e9abc4770b",
        "colab": {
          "base_uri": "https://localhost:8080/",
          "height": 127
        }
      },
      "cell_type": "code",
      "source": [
        "# alpha = 0.001\n",
        "elastic_net0001 = ElasticNet(alpha=0.001, l1_ratio = 0.5).fit(X_train, y_train)\n",
        "print(\"Training score: {:.2f}\".format(elastic_net0001.score(X_train, y_train)))\n",
        "print(\"Test score: {:.2f}\".format(elastic_net0001.score(X_test, y_test)))\n",
        "print(\"Number of features used:\", np.sum(elastic_net0001.coef_ != 0))"
      ],
      "execution_count": 24,
      "outputs": [
        {
          "output_type": "stream",
          "text": [
            "Training score: 0.92\n",
            "Test score: 0.78\n",
            "Number of features used: 95\n"
          ],
          "name": "stdout"
        },
        {
          "output_type": "stream",
          "text": [
            "/usr/local/lib/python3.6/dist-packages/sklearn/linear_model/coordinate_descent.py:492: ConvergenceWarning: Objective did not converge. You might want to increase the number of iterations. Fitting data with very small alpha may cause precision problems.\n",
            "  ConvergenceWarning)\n"
          ],
          "name": "stderr"
        }
      ]
    },
    {
      "metadata": {
        "id": "mHZzoLTTkNNi",
        "colab_type": "code",
        "outputId": "4de9729e-3be4-4f9c-c21f-def0e3899c73",
        "colab": {
          "base_uri": "https://localhost:8080/",
          "height": 127
        }
      },
      "cell_type": "code",
      "source": [
        "# alpha = 0.0001\n",
        "elastic_net00001 = ElasticNet(alpha=0.0001, l1_ratio = 0.5).fit(X_train, y_train)\n",
        "print(\"Training score: {:.2f}\".format(elastic_net00001.score(X_train, y_train)))\n",
        "print(\"Test score: {:.2f}\".format(elastic_net00001.score(X_test, y_test)))\n",
        "print(\"Number of features used:\", np.sum(elastic_net00001.coef_ != 0))"
      ],
      "execution_count": 25,
      "outputs": [
        {
          "output_type": "stream",
          "text": [
            "Training score: 0.94\n",
            "Test score: 0.73\n",
            "Number of features used: 103\n"
          ],
          "name": "stdout"
        },
        {
          "output_type": "stream",
          "text": [
            "/usr/local/lib/python3.6/dist-packages/sklearn/linear_model/coordinate_descent.py:492: ConvergenceWarning: Objective did not converge. You might want to increase the number of iterations. Fitting data with very small alpha may cause precision problems.\n",
            "  ConvergenceWarning)\n"
          ],
          "name": "stderr"
        }
      ]
    },
    {
      "metadata": {
        "id": "5qhfeqH1ko99",
        "colab_type": "code",
        "outputId": "50201556-8bfa-4a92-da78-af349d1ea8f6",
        "colab": {
          "base_uri": "https://localhost:8080/",
          "height": 341
        }
      },
      "cell_type": "code",
      "source": [
        "plt.plot(elastic_net.coef_, 'v', label=\"Lasso alpha=1\")\n",
        "plt.plot(elastic_net001.coef_, '^', label=\"ElasticNet alpha=0.01\")\n",
        "plt.plot(elastic_net0001.coef_, '^', label=\"ElasticNet alpha=0.001\")\n",
        "plt.plot(elastic_net00001.coef_, 's', label=\"Lasso alpha=0.0001\")\n",
        "\n",
        "#plt.plot(ridge01.coef_, 'o', label=\"Ridge alpha=0.1\")\n",
        "plt.legend(ncol=2, loc=(0, 1.05))\n",
        "plt.ylim(-25, 25)\n",
        "plt.xlabel(\"Coefficient index\")\n",
        "plt.ylabel(\"Coefficient magnitude\")"
      ],
      "execution_count": 26,
      "outputs": [
        {
          "output_type": "execute_result",
          "data": {
            "text/plain": [
              "Text(0, 0.5, 'Coefficient magnitude')"
            ]
          },
          "metadata": {
            "tags": []
          },
          "execution_count": 26
        },
        {
          "output_type": "display_data",
          "data": {
            "image/png": "[encoded data removed]",
            "text/plain": [
              "<Figure size 432x288 with 1 Axes>"
            ]
          },
          "metadata": {
            "tags": []
          }
        }
      ]
    },
    {
      "metadata": {
        "id": "FKf1W0pMIHB4",
        "colab_type": "text"
      },
      "cell_type": "markdown",
      "source": [
        "# Linear classification\n",
        "\n",
        "* Binary classification\n",
        "> - class +1 if $f(x) = \\sum_i{w_ix_i}+b = w_1 x_1 + w_2 x_2+...+b > 0$\n",
        "> - class -1 if $f(x) = \\sum_i{w_ix_i}+b = w_1 x_1 + w_2 x_2+...+b < 0$\n",
        "\n",
        "> Note! Class boundary is hyperplane\n",
        "\n",
        "* Multi-class classification: $ŷ = argmax_j {f_j(x)=[\\sum_i{w_{ji} x_i} + b_j]} = argmax_j {[w_{j1} x_1 + w_{j2} x_2+...+b_j]}$\n",
        "\n",
        "* Popular fitting algorithms\n",
        "> * Logistic regression (linear_model.LogisticRegression)\n",
        "> * (linear) Support Vector Machine (SVM)\n",
        "\n"
      ]
    },
    {
      "metadata": {
        "id": "d69750jZQJvZ",
        "colab_type": "text"
      },
      "cell_type": "markdown",
      "source": [
        "## Logistic regression\n",
        "* binary classification ($y$ = 0 or 1)\n",
        "* $\\hat{y} = sigmoid(\\sum_i{w_ix_i+b})$\n",
        "* $ Loss_{logistic} = \\frac{1}{2N}(y - \\hat{y})^2 + \\alpha |W|_L$\n",
        "\n",
        "\n",
        "See https://scikit-learn.org/stable/modules/generated/sklearn.linear_model.LogisticRegression.html\n"
      ]
    },
    {
      "metadata": {
        "id": "uRH0c5JWQPaF",
        "colab_type": "code",
        "colab": {}
      },
      "cell_type": "code",
      "source": [
        "from sklearn.linear_model import LogisticRegression\n",
        "from sklearn.svm import LinearSVC"
      ],
      "execution_count": 0,
      "outputs": []
    },
    {
      "metadata": {
        "id": "lf1RXLuRHp_y",
        "colab_type": "code",
        "outputId": "7cf66d95-5cea-43f0-d979-7d0ab20053be",
        "colab": {
          "base_uri": "https://localhost:8080/",
          "height": 370
        }
      },
      "cell_type": "code",
      "source": [
        "from sklearn.linear_model import LogisticRegression\n",
        "from sklearn.svm import LinearSVC\n",
        "\n",
        "X, y = mglearn.datasets.make_forge()\n",
        "fig, axes = plt.subplots(1, 2, figsize=(10, 3))\n",
        "for model, ax in zip([LogisticRegression(),LinearSVC()], axes):\n",
        "  clf = model.fit(X, y)\n",
        "  mglearn.plots.plot_2d_separator(clf, X, fill=False, eps=0.5, ax=ax, alpha=.7)\n",
        "  mglearn.discrete_scatter(X[:, 0], X[:, 1], y, ax=ax)\n",
        "  ax.set_title(\"{}\".format(clf.__class__.__name__))\n",
        "  ax.set_xlabel(\"Feature 0\")\n",
        "  ax.set_ylabel(\"Feature 1\")\n",
        "axes[0].legend()"
      ],
      "execution_count": 28,
      "outputs": [
        {
          "output_type": "stream",
          "text": [
            "/usr/local/lib/python3.6/dist-packages/sklearn/utils/deprecation.py:77: DeprecationWarning: Function make_blobs is deprecated; Please import make_blobs directly from scikit-learn\n",
            "  warnings.warn(msg, category=DeprecationWarning)\n",
            "/usr/local/lib/python3.6/dist-packages/sklearn/linear_model/logistic.py:433: FutureWarning: Default solver will be changed to 'lbfgs' in 0.22. Specify a solver to silence this warning.\n",
            "  FutureWarning)\n",
            "/usr/local/lib/python3.6/dist-packages/sklearn/svm/base.py:931: ConvergenceWarning: Liblinear failed to converge, increase the number of iterations.\n",
            "  \"the number of iterations.\", ConvergenceWarning)\n"
          ],
          "name": "stderr"
        },
        {
          "output_type": "execute_result",
          "data": {
            "text/plain": [
              "<matplotlib.legend.Legend at 0x7fd9849ec0b8>"
            ]
          },
          "metadata": {
            "tags": []
          },
          "execution_count": 28
        },
        {
          "output_type": "display_data",
          "data": {
            "image/png": "[encoded data removed]",
            "text/plain": [
              "<Figure size 720x216 with 2 Axes>"
            ]
          },
          "metadata": {
            "tags": []
          }
        }
      ]
    },
    {
      "metadata": {
        "id": "Vm42jQgXNrzu",
        "colab_type": "text"
      },
      "cell_type": "markdown",
      "source": [
        "## hyper parameter C to control regularization \n",
        "\n",
        "**small C** means **stronger regularization**"
      ]
    },
    {
      "metadata": {
        "id": "nGWcMZCTNeis",
        "colab_type": "code",
        "outputId": "d01442ec-842b-4357-81f4-9a77e6f75802",
        "colab": {
          "base_uri": "https://localhost:8080/",
          "height": 109
        }
      },
      "cell_type": "code",
      "source": [
        "from sklearn.datasets import load_breast_cancer\n",
        "cancer = load_breast_cancer()\n",
        "X_train, X_test, y_train, y_test = train_test_split(\n",
        "cancer.data, cancer.target, stratify=cancer.target, random_state=42)\n",
        "\n",
        "# C = 1\n",
        "logreg = LogisticRegression().fit(X_train, y_train)\n",
        "print(\"Training score: {:.3f}\".format(logreg.score(X_train, y_train)))\n",
        "print(\"Test score: {:.3f}\".format(logreg.score(X_test, y_test))) "
      ],
      "execution_count": 29,
      "outputs": [
        {
          "output_type": "stream",
          "text": [
            "Training score: 0.955\n",
            "Test score: 0.958\n"
          ],
          "name": "stdout"
        },
        {
          "output_type": "stream",
          "text": [
            "/usr/local/lib/python3.6/dist-packages/sklearn/linear_model/logistic.py:433: FutureWarning: Default solver will be changed to 'lbfgs' in 0.22. Specify a solver to silence this warning.\n",
            "  FutureWarning)\n"
          ],
          "name": "stderr"
        }
      ]
    },
    {
      "metadata": {
        "id": "-ZJ0DUbfN246",
        "colab_type": "code",
        "outputId": "8652bbbc-3109-4785-85b5-672992bbe8e9",
        "colab": {
          "base_uri": "https://localhost:8080/",
          "height": 109
        }
      },
      "cell_type": "code",
      "source": [
        "# C = 100\n",
        "logreg100 = LogisticRegression(C=100).fit(X_train, y_train)\n",
        "print(\"Training score: {:.3f}\".format(logreg100.score(X_train, y_train)))\n",
        "print(\"Test score: {:.3f}\".format(logreg100.score(X_test, y_test)))"
      ],
      "execution_count": 30,
      "outputs": [
        {
          "output_type": "stream",
          "text": [
            "Training score: 0.972\n",
            "Test score: 0.965\n"
          ],
          "name": "stdout"
        },
        {
          "output_type": "stream",
          "text": [
            "/usr/local/lib/python3.6/dist-packages/sklearn/linear_model/logistic.py:433: FutureWarning: Default solver will be changed to 'lbfgs' in 0.22. Specify a solver to silence this warning.\n",
            "  FutureWarning)\n"
          ],
          "name": "stderr"
        }
      ]
    },
    {
      "metadata": {
        "id": "GdFGK--qN516",
        "colab_type": "code",
        "outputId": "882e31bc-97e5-469b-bf67-af20bc16a606",
        "colab": {
          "base_uri": "https://localhost:8080/",
          "height": 109
        }
      },
      "cell_type": "code",
      "source": [
        "# C = 0.01\n",
        "logreg001 = LogisticRegression(C=0.01).fit(X_train, y_train)\n",
        "print(\"Training score: {:.3f}\".format(logreg001.score(X_train, y_train)))\n",
        "print(\"Test score: {:.3f}\".format(logreg001.score(X_test, y_test)))"
      ],
      "execution_count": 31,
      "outputs": [
        {
          "output_type": "stream",
          "text": [
            "Training score: 0.934\n",
            "Test score: 0.930\n"
          ],
          "name": "stdout"
        },
        {
          "output_type": "stream",
          "text": [
            "/usr/local/lib/python3.6/dist-packages/sklearn/linear_model/logistic.py:433: FutureWarning: Default solver will be changed to 'lbfgs' in 0.22. Specify a solver to silence this warning.\n",
            "  FutureWarning)\n"
          ],
          "name": "stderr"
        }
      ]
    },
    {
      "metadata": {
        "id": "LWX7yFmVN8tU",
        "colab_type": "code",
        "outputId": "909875e4-cee9-4a15-8181-9ebc072d318f",
        "colab": {
          "base_uri": "https://localhost:8080/",
          "height": 409
        }
      },
      "cell_type": "code",
      "source": [
        "plt.plot(logreg.coef_.T, 'o', label=\"C=1\")\n",
        "plt.plot(logreg100.coef_.T, '^', label=\"C=100\")\n",
        "plt.plot(logreg001.coef_.T, 'v', label=\"C=0.001\")\n",
        "plt.xticks(range(cancer.data.shape[1]), cancer.feature_names, rotation=90)\n",
        "plt.hlines(0, 0, cancer.data.shape[1])\n",
        "plt.ylim(-5, 5)\n",
        "plt.xlabel(\"Feature\")\n",
        "plt.ylabel(\"Coefficient magnitude\")\n",
        "plt.legend()"
      ],
      "execution_count": 32,
      "outputs": [
        {
          "output_type": "execute_result",
          "data": {
            "text/plain": [
              "<matplotlib.legend.Legend at 0x7fd98489e6a0>"
            ]
          },
          "metadata": {
            "tags": []
          },
          "execution_count": 32
        },
        {
          "output_type": "display_data",
          "data": {
            "image/png": "[encoded data removed]",
            "text/plain": [
              "<Figure size 432x288 with 1 Axes>"
            ]
          },
          "metadata": {
            "tags": []
          }
        }
      ]
    },
    {
      "metadata": {
        "id": "usuW4OMg8YgL",
        "colab_type": "code",
        "colab": {}
      },
      "cell_type": "code",
      "source": [
        ""
      ],
      "execution_count": 0,
      "outputs": []
    }
  ]
}