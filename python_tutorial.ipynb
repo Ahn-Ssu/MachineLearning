{
  "nbformat": 4,
  "nbformat_minor": 0,
  "metadata": {
    "colab": {
      "name": "python_tutorial.ipynb",
      "version": "0.3.2",
      "provenance": [],
      "collapsed_sections": [],
      "include_colab_link": true
    },
    "kernelspec": {
      "name": "python3",
      "display_name": "Python 3"
    }
  },
  "cells": [
    {
      "cell_type": "markdown",
      "metadata": {
        "id": "view-in-github",
        "colab_type": "text"
      },
      "source": [
        "<a href=\"https://colab.research.google.com/github/callee2006/MachineLearning/blob/master/python_tutorial.ipynb\" target=\"_parent\"><img src=\"https://colab.research.google.com/assets/colab-badge.svg\" alt=\"Open In Colab\"/></a>"
      ]
    },
    {
      "cell_type": "code",
      "metadata": {
        "id": "kfqNWrFEr2hd",
        "colab_type": "code",
        "colab": {}
      },
      "source": [
        "import numpy as np"
      ],
      "execution_count": 0,
      "outputs": []
    },
    {
      "cell_type": "markdown",
      "metadata": {
        "id": "p3GZN4NGslWM",
        "colab_type": "text"
      },
      "source": [
        "# basic types (int, float, bool, str)"
      ]
    },
    {
      "cell_type": "code",
      "metadata": {
        "id": "xt4GL6DlofE7",
        "colab_type": "code",
        "outputId": "77261b4b-d9f6-48b9-9bf0-fd802c6b24f7",
        "colab": {
          "base_uri": "https://localhost:8080/",
          "height": 35
        }
      },
      "source": [
        "a = 5\n",
        "type(a)"
      ],
      "execution_count": 0,
      "outputs": [
        {
          "output_type": "execute_result",
          "data": {
            "text/plain": [
              "int"
            ]
          },
          "metadata": {
            "tags": []
          },
          "execution_count": 1
        }
      ]
    },
    {
      "cell_type": "code",
      "metadata": {
        "id": "wk0NXRfbohxr",
        "colab_type": "code",
        "outputId": "e6db3ce4-18fd-482f-e40c-a3bc46cb7dc6",
        "colab": {
          "base_uri": "https://localhost:8080/",
          "height": 35
        }
      },
      "source": [
        "f = 2.0\n",
        "type(f)"
      ],
      "execution_count": 0,
      "outputs": [
        {
          "output_type": "execute_result",
          "data": {
            "text/plain": [
              "float"
            ]
          },
          "metadata": {
            "tags": []
          },
          "execution_count": 4
        }
      ]
    },
    {
      "cell_type": "code",
      "metadata": {
        "id": "KTD2RUG0ILHb",
        "colab_type": "code",
        "outputId": "51e9bc06-83f4-4ab6-d988-52a2b5c5bc57",
        "colab": {
          "base_uri": "https://localhost:8080/",
          "height": 35
        }
      },
      "source": [
        "b = True\n",
        "type(b)"
      ],
      "execution_count": 0,
      "outputs": [
        {
          "output_type": "execute_result",
          "data": {
            "text/plain": [
              "bool"
            ]
          },
          "metadata": {
            "tags": []
          },
          "execution_count": 5
        }
      ]
    },
    {
      "cell_type": "code",
      "metadata": {
        "id": "DkDDWWeIILP9",
        "colab_type": "code",
        "outputId": "5082666e-b7b0-4b35-cfff-41e996b3adf2",
        "colab": {
          "base_uri": "https://localhost:8080/",
          "height": 35
        }
      },
      "source": [
        "s = \"Hello, World!\"\n",
        "type(s)"
      ],
      "execution_count": 0,
      "outputs": [
        {
          "output_type": "execute_result",
          "data": {
            "text/plain": [
              "str"
            ]
          },
          "metadata": {
            "tags": []
          },
          "execution_count": 8
        }
      ]
    },
    {
      "cell_type": "markdown",
      "metadata": {
        "id": "i7ljhEufoWHW",
        "colab_type": "text"
      },
      "source": [
        "# input and output"
      ]
    },
    {
      "cell_type": "code",
      "metadata": {
        "id": "qsD0iKdLDx0L",
        "colab_type": "code",
        "outputId": "48909945-9ab1-4768-eb2f-ed32d10bfb70",
        "colab": {
          "base_uri": "https://localhost:8080/",
          "height": 72
        }
      },
      "source": [
        "print(\"What's your name?\")\n",
        "name = input()                                 # reading a string\n",
        "print(\"Nice to see you, \", name)"
      ],
      "execution_count": 0,
      "outputs": [
        {
          "output_type": "stream",
          "text": [
            "What's your name?\n",
            "Injung\n",
            "Nice to see you,  Injung\n"
          ],
          "name": "stdout"
        }
      ]
    },
    {
      "cell_type": "code",
      "metadata": {
        "id": "7j7vBjB-n5jl",
        "colab_type": "code",
        "outputId": "243aed46-699c-46c9-9f91-d55ac5ca9147",
        "colab": {
          "base_uri": "https://localhost:8080/",
          "height": 107
        }
      },
      "source": [
        "# reading numbers\n",
        "print(\"Input a: \")\n",
        "a = int(input())\n",
        "\n",
        "print(\"Input b: \")\n",
        "b = int(input())\n",
        "\n",
        "c = a + b\n",
        "print(\"{} + {} = {}\".format(a, b, c))          # formatted output"
      ],
      "execution_count": 0,
      "outputs": [
        {
          "output_type": "stream",
          "text": [
            "Input a: \n",
            "10\n",
            "Input b: \n",
            "20\n",
            "10 + 20 = 30\n"
          ],
          "name": "stdout"
        }
      ]
    },
    {
      "cell_type": "markdown",
      "metadata": {
        "id": "Xt2TKs8Zsq2j",
        "colab_type": "text"
      },
      "source": [
        "# for - Loop"
      ]
    },
    {
      "cell_type": "code",
      "metadata": {
        "id": "J-IH-6sBooYn",
        "colab_type": "code",
        "outputId": "19b85c9f-26d9-4152-837f-d64852b68192",
        "colab": {
          "base_uri": "https://localhost:8080/",
          "height": 107
        }
      },
      "source": [
        "# repeating 5 times\n",
        "for i in range(5):\n",
        "   print(\"i = \", i)"
      ],
      "execution_count": 0,
      "outputs": [
        {
          "output_type": "stream",
          "text": [
            "i =  0\n",
            "i =  1\n",
            "i =  2\n",
            "i =  3\n",
            "i =  4\n"
          ],
          "name": "stdout"
        }
      ]
    },
    {
      "cell_type": "code",
      "metadata": {
        "id": "omN7_F-JrKf5",
        "colab_type": "code",
        "outputId": "40e9c4b0-28f8-447b-8293-391b6f0f305e",
        "colab": {
          "base_uri": "https://localhost:8080/",
          "height": 161
        }
      },
      "source": [
        "# repeating from 20 to 200, stop = 10\n",
        "for i in range(20, 100, 10):         # start = 20, end = 100, step = 10\n",
        "   print(\"i = \", i)"
      ],
      "execution_count": 0,
      "outputs": [
        {
          "output_type": "stream",
          "text": [
            "i =  20\n",
            "i =  30\n",
            "i =  40\n",
            "i =  50\n",
            "i =  60\n",
            "i =  70\n",
            "i =  80\n",
            "i =  90\n"
          ],
          "name": "stdout"
        }
      ]
    },
    {
      "cell_type": "markdown",
      "metadata": {
        "id": "mpYCCGcjvXgI",
        "colab_type": "text"
      },
      "source": [
        "# Lists\n",
        "\n",
        "* Container of heterogeneous objects\n",
        "    \n",
        "* Flexible (e.g. a list  can contain another list)\n",
        "\n",
        "* Designed for efficient insertion / deletion\n",
        "\n"
      ]
    },
    {
      "cell_type": "code",
      "metadata": {
        "id": "wrQLfW1Cs8S1",
        "colab_type": "code",
        "outputId": "e6c6378c-d023-4825-f899-737fe21b0822",
        "colab": {
          "base_uri": "https://localhost:8080/",
          "height": 54
        }
      },
      "source": [
        "# creating a list\n",
        "a = [5,10,15,20,25,30,35,40]\n",
        "print(a)\n",
        "print(\"len(a) = \", len(a))"
      ],
      "execution_count": 0,
      "outputs": [
        {
          "output_type": "stream",
          "text": [
            "[5, 10, 15, 20, 25, 30, 35, 40]\n",
            "len(a) =  8\n"
          ],
          "name": "stdout"
        }
      ]
    },
    {
      "cell_type": "code",
      "metadata": {
        "id": "mNMcB6p29M1n",
        "colab_type": "code",
        "outputId": "28598e83-cb9d-43e3-eeeb-df66bf8e89ac",
        "colab": {
          "base_uri": "https://localhost:8080/",
          "height": 35
        }
      },
      "source": [
        "b = [3.14, 100, 'hello', a]\n",
        "print(b)"
      ],
      "execution_count": 0,
      "outputs": [
        {
          "output_type": "stream",
          "text": [
            "[3.14, 100, 'hello', [5, 10, 15, 20, 25, 30, 35, 40]]\n"
          ],
          "name": "stdout"
        }
      ]
    },
    {
      "cell_type": "code",
      "metadata": {
        "id": "HHrAvT7QvdZq",
        "colab_type": "code",
        "outputId": "1590d93d-a366-4865-c68e-99e6e72539a4",
        "colab": {
          "base_uri": "https://localhost:8080/",
          "height": 35
        }
      },
      "source": [
        "# element access\n",
        "print(\"a[2] = \", a[2])"
      ],
      "execution_count": 0,
      "outputs": [
        {
          "output_type": "stream",
          "text": [
            "a[2] =  15\n"
          ],
          "name": "stdout"
        }
      ]
    },
    {
      "cell_type": "code",
      "metadata": {
        "id": "gMEWuYgBo0dj",
        "colab_type": "code",
        "outputId": "9a2b4743-cbcb-465b-ef4c-c1c54a98e4ca",
        "colab": {
          "base_uri": "https://localhost:8080/",
          "height": 35
        }
      },
      "source": [
        "# slicing from 0 to 3 (exclusively)\n",
        "print(\"a[0:3] = \", a[0:3])"
      ],
      "execution_count": 0,
      "outputs": [
        {
          "output_type": "stream",
          "text": [
            "a[0:3] =  [5, 10, 15]\n"
          ],
          "name": "stdout"
        }
      ]
    },
    {
      "cell_type": "code",
      "metadata": {
        "id": "xrFwaV3LI-ac",
        "colab_type": "code",
        "outputId": "99ee72a0-22a2-472d-d104-4481e82a1a41",
        "colab": {
          "base_uri": "https://localhost:8080/",
          "height": 35
        }
      },
      "source": [
        "# slicing from 0 to 6 (exclusively), step = 2\n",
        "print(\"a[0:6:2] = \", a[0:6:2])"
      ],
      "execution_count": 0,
      "outputs": [
        {
          "output_type": "stream",
          "text": [
            "a[0:6:2] =  [5, 15, 25]\n"
          ],
          "name": "stdout"
        }
      ]
    },
    {
      "cell_type": "code",
      "metadata": {
        "id": "W_HAWol8vV_s",
        "colab_type": "code",
        "outputId": "b02fab64-4d16-4a7c-8b57-380d17f8498a",
        "colab": {
          "base_uri": "https://localhost:8080/",
          "height": 35
        }
      },
      "source": [
        "# slicing from 5 to the end of the list\n",
        "print(\"a[5:] = \", a[5:])"
      ],
      "execution_count": 0,
      "outputs": [
        {
          "output_type": "stream",
          "text": [
            "a[5:] =  [30, 35, 40]\n"
          ],
          "name": "stdout"
        }
      ]
    },
    {
      "cell_type": "code",
      "metadata": {
        "id": "86BC78hyL8av",
        "colab_type": "code",
        "outputId": "85428cdc-9f15-48d3-b890-9d1c79ab2f04",
        "colab": {
          "base_uri": "https://localhost:8080/",
          "height": 72
        }
      },
      "source": [
        "# append and delete\n",
        "a.append(50)                # append 50 at the end of list\n",
        "print(a)\n",
        "a.insert(8, 45)             # insert 45 at position 8\n",
        "print(a)\n",
        "a.remove(5)                 # remove the first 5\n",
        "print(a)"
      ],
      "execution_count": 0,
      "outputs": [
        {
          "output_type": "stream",
          "text": [
            "[5, 10, 15, 20, 25, 30, 35, 40, 50]\n",
            "[5, 10, 15, 20, 25, 30, 35, 40, 45, 50]\n",
            "[10, 15, 20, 25, 30, 35, 40, 45, 50]\n"
          ],
          "name": "stdout"
        }
      ]
    },
    {
      "cell_type": "markdown",
      "metadata": {
        "id": "YOYIaKdLJVff",
        "colab_type": "text"
      },
      "source": [
        "## 2D Lists"
      ]
    },
    {
      "cell_type": "code",
      "metadata": {
        "id": "BvgiglhZJUV8",
        "colab_type": "code",
        "outputId": "e927d5a6-6e37-41a0-bb18-a8239f7a78e8",
        "colab": {
          "base_uri": "https://localhost:8080/",
          "height": 54
        }
      },
      "source": [
        "list2D = [[1, 2, 3], [4, 5, 6]]          # creating a 2D list\n",
        "rows = len(list2D)                       # retrieving <# of rows> \n",
        "cols = len(list2D[0])                    # retrieving <# of columns>\n",
        "print(\"size of list2D = {} x {}\".format(rows, cols))\n",
        "print(list2D)"
      ],
      "execution_count": 0,
      "outputs": [
        {
          "output_type": "stream",
          "text": [
            "size of list2D = 2 x 3\n",
            "[[1, 2, 3], [4, 5, 6]]\n"
          ],
          "name": "stdout"
        }
      ]
    },
    {
      "cell_type": "code",
      "metadata": {
        "id": "jpBDwsLpJsgs",
        "colab_type": "code",
        "outputId": "c751ccaa-cd05-443c-c4d7-a7e5790d1f02",
        "colab": {
          "base_uri": "https://localhost:8080/",
          "height": 35
        }
      },
      "source": [
        "# accessing an element\n",
        "list2D[0][1]"
      ],
      "execution_count": 0,
      "outputs": [
        {
          "output_type": "execute_result",
          "data": {
            "text/plain": [
              "2"
            ]
          },
          "metadata": {
            "tags": []
          },
          "execution_count": 29
        }
      ]
    },
    {
      "cell_type": "code",
      "metadata": {
        "id": "fR3_GEF4Jx7V",
        "colab_type": "code",
        "outputId": "3f3e770d-042a-4aa4-b4b3-79243600e563",
        "colab": {
          "base_uri": "https://localhost:8080/",
          "height": 35
        }
      },
      "source": [
        "# accessing a row\n",
        "list2D[1]"
      ],
      "execution_count": 0,
      "outputs": [
        {
          "output_type": "execute_result",
          "data": {
            "text/plain": [
              "[4, 5, 6]"
            ]
          },
          "metadata": {
            "tags": []
          },
          "execution_count": 43
        }
      ]
    },
    {
      "cell_type": "markdown",
      "metadata": {
        "id": "PnN7xe2a4nOx",
        "colab_type": "text"
      },
      "source": [
        "# Tuples\n",
        "\n",
        "* Container of heterogeneous objects    \n",
        "\n",
        "* Immutable"
      ]
    },
    {
      "cell_type": "code",
      "metadata": {
        "id": "v4UVKjqL4mYQ",
        "colab_type": "code",
        "outputId": "48229023-ab0f-4198-cb4a-e4576e0abce4",
        "colab": {
          "base_uri": "https://localhost:8080/",
          "height": 35
        }
      },
      "source": [
        "# creating a tuple\n",
        "t = (5,'program', 1+3j)\n",
        "print(t)"
      ],
      "execution_count": 0,
      "outputs": [
        {
          "output_type": "stream",
          "text": [
            "(5, 'program', (1+3j))\n"
          ],
          "name": "stdout"
        }
      ]
    },
    {
      "cell_type": "code",
      "metadata": {
        "id": "qwi_ybso4pZL",
        "colab_type": "code",
        "outputId": "d08cb184-845d-4a44-d581-352073852943",
        "colab": {
          "base_uri": "https://localhost:8080/",
          "height": 53
        }
      },
      "source": [
        "# accessing elements\n",
        "\n",
        "print(\"t[1] = \", t[1])\n",
        "# t[1] = 'program'\n",
        "\n",
        "print(\"t[0:3] = \", t[0:3])\n",
        "# t[0:3] = (5, 'program', (1+3j))"
      ],
      "execution_count": 0,
      "outputs": [
        {
          "output_type": "stream",
          "text": [
            "t[1] =  program\n",
            "t[0:3] =  (5, 'program', (1+3j))\n"
          ],
          "name": "stdout"
        }
      ]
    },
    {
      "cell_type": "code",
      "metadata": {
        "id": "z6qrV3U28NG7",
        "colab_type": "code",
        "outputId": "2a2dbdcb-0dfb-4f25-95c0-25d89624d2b7",
        "colab": {
          "base_uri": "https://localhost:8080/",
          "height": 172
        }
      },
      "source": [
        "# Tuples are immutable\n",
        "# The following code generates error\n",
        "t[0] = 10"
      ],
      "execution_count": 0,
      "outputs": [
        {
          "output_type": "error",
          "ename": "TypeError",
          "evalue": "ignored",
          "traceback": [
            "\u001b[0;31m---------------------------------------------------------------------------\u001b[0m",
            "\u001b[0;31mTypeError\u001b[0m                                 Traceback (most recent call last)",
            "\u001b[0;32m<ipython-input-6-88963aa635fa>\u001b[0m in \u001b[0;36m<module>\u001b[0;34m()\u001b[0m\n\u001b[0;32m----> 1\u001b[0;31m \u001b[0mt\u001b[0m\u001b[0;34m[\u001b[0m\u001b[0;36m0\u001b[0m\u001b[0;34m]\u001b[0m \u001b[0;34m=\u001b[0m \u001b[0;36m10\u001b[0m\u001b[0;34m\u001b[0m\u001b[0;34m\u001b[0m\u001b[0m\n\u001b[0m",
            "\u001b[0;31mTypeError\u001b[0m: 'tuple' object does not support item assignment"
          ]
        }
      ]
    },
    {
      "cell_type": "markdown",
      "metadata": {
        "id": "HCwwrT8Nsef3",
        "colab_type": "text"
      },
      "source": [
        "# Function"
      ]
    },
    {
      "cell_type": "code",
      "metadata": {
        "id": "42vld-6KpSqX",
        "colab_type": "code",
        "colab": {}
      },
      "source": [
        "def is_even(x):\n",
        "   if x % 2 == 0:\n",
        "      return True\n",
        "   else:\n",
        "      return False"
      ],
      "execution_count": 0,
      "outputs": []
    },
    {
      "cell_type": "code",
      "metadata": {
        "id": "_0Bee6LPsTVl",
        "colab_type": "code",
        "outputId": "f9bb2d44-3503-4cd6-9540-d5e399941038",
        "colab": {
          "base_uri": "https://localhost:8080/",
          "height": 53
        }
      },
      "source": [
        "print(\"is_even(20) = {}\".format(is_even(20)))\n",
        "print(\"is_even(35) = {}\".format(is_even(35)))"
      ],
      "execution_count": 0,
      "outputs": [
        {
          "output_type": "stream",
          "text": [
            "is_even(20) = True\n",
            "is_even(35) = False\n"
          ],
          "name": "stdout"
        }
      ]
    },
    {
      "cell_type": "markdown",
      "metadata": {
        "id": "Ev2rm5PHvnqh",
        "colab_type": "text"
      },
      "source": [
        "# Class\n",
        "\n"
      ]
    },
    {
      "cell_type": "code",
      "metadata": {
        "id": "OuEe_PMfschP",
        "colab_type": "code",
        "colab": {}
      },
      "source": [
        "# defining a class\n",
        "class Hello:\n",
        "    def __init__(self, message):\n",
        "        self.mesg = message      \n",
        "      \n",
        "    def display(self):\n",
        "        print('=' * 20, end = '')\n",
        "        print(self.mesg, end = '')\n",
        "        print('=' * 20, end = '')\n",
        "        \n",
        "    def get_message(self):\n",
        "        return self.mesg"
      ],
      "execution_count": 0,
      "outputs": []
    },
    {
      "cell_type": "code",
      "metadata": {
        "id": "w1FAgPbnwL8m",
        "colab_type": "code",
        "colab": {}
      },
      "source": [
        "# creating a class object\n",
        "hello = Hello('nice to see you!')"
      ],
      "execution_count": 0,
      "outputs": []
    },
    {
      "cell_type": "code",
      "metadata": {
        "id": "OINhVC65wTLc",
        "colab_type": "code",
        "outputId": "1fdda1bb-cc6b-4160-e28f-02cf9d65ebc3",
        "colab": {
          "base_uri": "https://localhost:8080/",
          "height": 35
        }
      },
      "source": [
        "# calling methods\n",
        "hello.display()\n",
        "print(\"message = \", hello.get_message())"
      ],
      "execution_count": 0,
      "outputs": [
        {
          "output_type": "stream",
          "text": [
            "====================nice to see you!====================message =  nice to see you!\n"
          ],
          "name": "stdout"
        }
      ]
    },
    {
      "cell_type": "code",
      "metadata": {
        "id": "SiyKRh1fxMEk",
        "colab_type": "code",
        "colab": {}
      },
      "source": [
        ""
      ],
      "execution_count": 0,
      "outputs": []
    }
  ]
}