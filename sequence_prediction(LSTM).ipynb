{
  "nbformat": 4,
  "nbformat_minor": 0,
  "metadata": {
    "colab": {
      "name": "sequence_prediction(LSTM).ipynb",
      "version": "0.3.2",
      "provenance": [],
      "collapsed_sections": []
    },
    "kernelspec": {
      "name": "python3",
      "display_name": "Python 3"
    }
  },
  "cells": [
    {
      "metadata": {
        "id": "aI4mTQQQhirT",
        "colab_type": "code",
        "colab": {}
      },
      "cell_type": "code",
      "source": [
        "import numpy as np\n",
        "import matplotlib.pyplot as plt\n",
        "import torch\n",
        "import torch.nn as nn"
      ],
      "execution_count": 0,
      "outputs": []
    },
    {
      "metadata": {
        "id": "BLAtcwZ3D-qn",
        "colab_type": "code",
        "outputId": "18b79993-ae94-4452-e36c-737f920bd691",
        "colab": {
          "base_uri": "https://localhost:8080/",
          "height": 34
        }
      },
      "cell_type": "code",
      "source": [
        "MODEL_NAME = 'LSTM'\n",
        "DEVICE = torch.device(\"cuda\" if torch.cuda.is_available() else \"cpu\")\n",
        "print(\"MODEL_NAME = {}, DEVICE = {}\".format(MODEL_NAME, DEVICE))"
      ],
      "execution_count": 5,
      "outputs": [
        {
          "output_type": "stream",
          "text": [
            "MODEL_NAME = LSTM, DEVICE = cpu\n"
          ],
          "name": "stdout"
        }
      ]
    },
    {
      "metadata": {
        "id": "NbXrwjD5wKZV",
        "colab_type": "text"
      },
      "cell_type": "markdown",
      "source": [
        "# Generate data\n",
        "\n",
        "This is a toy example to predict a sequence with RNN.\n",
        "In this example, Y is a sequence of 2D vectors (sin(x), cos(x)) for x in [-3.14, +3.14]\n",
        "\n",
        "In practical applications, replace Y with the sequence to predict"
      ]
    },
    {
      "metadata": {
        "id": "aiVYziFcjeWn",
        "colab_type": "code",
        "colab": {}
      },
      "cell_type": "code",
      "source": [
        "# range of the data\n",
        "X = np.linspace(-3.14 * 2, 3.14 * 2, 100)"
      ],
      "execution_count": 0,
      "outputs": []
    },
    {
      "metadata": {
        "id": "ee-Cz7kpj9rM",
        "colab_type": "code",
        "outputId": "67f9a73d-f993-4d38-f6f8-785f5f55b5d7",
        "colab": {
          "base_uri": "https://localhost:8080/",
          "height": 193
        }
      },
      "cell_type": "code",
      "source": [
        "Y = np.array([(np.sin(x), np.cos(x)) for x in X])\n",
        "#Y = np.array([(np.sin(x) + np.random.normal(0, 0.1), np.cos(x) + np.random.normal(0, 0.1)) for x in X])\n",
        "Y[:10]"
      ],
      "execution_count": 11,
      "outputs": [
        {
          "output_type": "execute_result",
          "data": {
            "text/plain": [
              "array([[-0.03146104,  0.93720514],\n",
              "       [ 0.17849704,  1.02254485],\n",
              "       [ 0.2222776 ,  1.09716037],\n",
              "       [ 0.53198877,  1.01294712],\n",
              "       [ 0.43903848,  1.01616628],\n",
              "       [ 0.58377143,  0.79700115],\n",
              "       [ 0.52848385,  0.64627367],\n",
              "       [ 0.74920861,  0.5571846 ],\n",
              "       [ 0.81631235,  0.53349456],\n",
              "       [ 1.11594502,  0.31347557]])"
            ]
          },
          "metadata": {
            "tags": []
          },
          "execution_count": 11
        }
      ]
    },
    {
      "metadata": {
        "id": "2EGIkmgjkZK2",
        "colab_type": "code",
        "outputId": "49c77127-178e-410f-cc79-2ba09febbf67",
        "colab": {
          "base_uri": "https://localhost:8080/",
          "height": 286
        }
      },
      "cell_type": "code",
      "source": [
        "plt.plot(X, Y[:,0], label=\"sin\", marker=\"o\")\n",
        "plt.plot(X, Y[:,1], label=\"cos\", marker='*')\n",
        "plt.legend()"
      ],
      "execution_count": 12,
      "outputs": [
        {
          "output_type": "execute_result",
          "data": {
            "text/plain": [
              "<matplotlib.legend.Legend at 0x7fb1fc49a908>"
            ]
          },
          "metadata": {
            "tags": []
          },
          "execution_count": 12
        },
        {
          "output_type": "display_data",
          "data": {
            "image/png": "[encoded data removed]",
            "text/plain": [
              "<Figure size 432x288 with 1 Axes>"
            ]
          },
          "metadata": {
            "tags": []
          }
        }
      ]
    },
    {
      "metadata": {
        "id": "2PKODGpWr7fq",
        "colab_type": "text"
      },
      "cell_type": "markdown",
      "source": [
        "# Convert numpy array to torch.Tensor"
      ]
    },
    {
      "metadata": {
        "id": "qKpvmfsTkkyZ",
        "colab_type": "code",
        "outputId": "0cb4126b-7e44-4ed5-a605-67750c6346f0",
        "colab": {
          "base_uri": "https://localhost:8080/",
          "height": 34
        }
      },
      "cell_type": "code",
      "source": [
        "# convert Y into input tensors\n",
        "input_tensor = torch.tensor(Y, dtype=torch.float32).to(DEVICE)\n",
        "#input_tensor = torch.tensor(Y, dtype=torch.float32)\n",
        "input_tensor.shape"
      ],
      "execution_count": 13,
      "outputs": [
        {
          "output_type": "execute_result",
          "data": {
            "text/plain": [
              "torch.Size([100, 2])"
            ]
          },
          "metadata": {
            "tags": []
          },
          "execution_count": 13
        }
      ]
    },
    {
      "metadata": {
        "id": "wxdoLAURrAcp",
        "colab_type": "code",
        "outputId": "e83da75f-74b7-4f9c-f78c-33f9a4cfae4e",
        "colab": {
          "base_uri": "https://localhost:8080/",
          "height": 193
        }
      },
      "cell_type": "code",
      "source": [
        "# check input_tensor\n",
        "input_tensor[:10]"
      ],
      "execution_count": 14,
      "outputs": [
        {
          "output_type": "execute_result",
          "data": {
            "text/plain": [
              "tensor([[-0.0315,  0.9372],\n",
              "        [ 0.1785,  1.0225],\n",
              "        [ 0.2223,  1.0972],\n",
              "        [ 0.5320,  1.0129],\n",
              "        [ 0.4390,  1.0162],\n",
              "        [ 0.5838,  0.7970],\n",
              "        [ 0.5285,  0.6463],\n",
              "        [ 0.7492,  0.5572],\n",
              "        [ 0.8163,  0.5335],\n",
              "        [ 1.1159,  0.3135]])"
            ]
          },
          "metadata": {
            "tags": []
          },
          "execution_count": 14
        }
      ]
    },
    {
      "metadata": {
        "id": "LnncsVsGrRpD",
        "colab_type": "code",
        "outputId": "34d69326-66ac-4725-bd3b-766d632d1ee8",
        "colab": {
          "base_uri": "https://localhost:8080/",
          "height": 193
        }
      },
      "cell_type": "code",
      "source": [
        "# make target_tensor by rotating input_tensor\n",
        "target_tensor = torch.cat((input_tensor[1:], input_tensor[0:1]), 0).to(DEVICE)\n",
        "#target_tensor = torch.cat((input_tensor[1:], input_tensor[0:1]), 0)\n",
        "target_tensor[:10]"
      ],
      "execution_count": 15,
      "outputs": [
        {
          "output_type": "execute_result",
          "data": {
            "text/plain": [
              "tensor([[0.1785, 1.0225],\n",
              "        [0.2223, 1.0972],\n",
              "        [0.5320, 1.0129],\n",
              "        [0.4390, 1.0162],\n",
              "        [0.5838, 0.7970],\n",
              "        [0.5285, 0.6463],\n",
              "        [0.7492, 0.5572],\n",
              "        [0.8163, 0.5335],\n",
              "        [1.1159, 0.3135],\n",
              "        [1.0000, 0.1601]])"
            ]
          },
          "metadata": {
            "tags": []
          },
          "execution_count": 15
        }
      ]
    },
    {
      "metadata": {
        "id": "ppFN7K-MrN00",
        "colab_type": "code",
        "outputId": "449d0272-3b55-45af-f970-6199aa1f6767",
        "colab": {
          "base_uri": "https://localhost:8080/",
          "height": 193
        }
      },
      "cell_type": "code",
      "source": [
        "# check the input and target tensors\n",
        "print(torch.cat((input_tensor, target_tensor), 1)[:10])"
      ],
      "execution_count": 16,
      "outputs": [
        {
          "output_type": "stream",
          "text": [
            "tensor([[-0.0315,  0.9372,  0.1785,  1.0225],\n",
            "        [ 0.1785,  1.0225,  0.2223,  1.0972],\n",
            "        [ 0.2223,  1.0972,  0.5320,  1.0129],\n",
            "        [ 0.5320,  1.0129,  0.4390,  1.0162],\n",
            "        [ 0.4390,  1.0162,  0.5838,  0.7970],\n",
            "        [ 0.5838,  0.7970,  0.5285,  0.6463],\n",
            "        [ 0.5285,  0.6463,  0.7492,  0.5572],\n",
            "        [ 0.7492,  0.5572,  0.8163,  0.5335],\n",
            "        [ 0.8163,  0.5335,  1.1159,  0.3135],\n",
            "        [ 1.1159,  0.3135,  1.0000,  0.1601]])\n"
          ],
          "name": "stdout"
        }
      ]
    },
    {
      "metadata": {
        "id": "2pi4nsq8wM9D",
        "colab_type": "text"
      },
      "cell_type": "markdown",
      "source": [
        "# Create RNN Class"
      ]
    },
    {
      "metadata": {
        "id": "9XH10b8zkbSc",
        "colab_type": "code",
        "colab": {}
      },
      "cell_type": "code",
      "source": [
        "import torch\n",
        "import torch.nn as nn\n",
        "\n",
        "\n",
        "# RNN to predict the sequence\n",
        "\n",
        "class RNN(nn.Module):\n",
        "    def __init__(self, input_size, hidden_size, output_size):\n",
        "        super(RNN, self).__init__()\n",
        "        self.hidden_size = hidden_size\n",
        "        self.output_size = output_size\n",
        "        \n",
        "        self.lstm = nn.LSTM(input_size, hidden_size).to(DEVICE)\n",
        "        self.h2o = nn.Linear(hidden_size, output_size).to(DEVICE)\n",
        "\n",
        "    def forward(self, input, hidden):\n",
        "#        print(\"input = {}\".format(input))\n",
        "#        print(\"hidden = {}\".format(hidden))\n",
        "#        print(\"reshaped = {}\".format(input.view(1,1,-1)))         \n",
        "        output, hidden = self.lstm(input.view(1,1,-1), hidden)\n",
        "    \n",
        "        h, c = hidden\n",
        "        output = self.h2o(h)\n",
        "        \n",
        "        return output, hidden\n",
        "\n",
        "    def initHidden(self):\n",
        "#       return torch.zeros(1, 1, self.hidden_size), torch.zeros(1, 1, self.hidden_size)      \n",
        "        return torch.zeros(1, 1, self.hidden_size).to(DEVICE), torch.zeros(1, 1, self.hidden_size).to(DEVICE)\n",
        "      "
      ],
      "execution_count": 0,
      "outputs": []
    },
    {
      "metadata": {
        "id": "r9updpNBwG4O",
        "colab_type": "text"
      },
      "cell_type": "markdown",
      "source": [
        "# Train RNN"
      ]
    },
    {
      "metadata": {
        "id": "AF_MsFrNtV4V",
        "colab_type": "code",
        "colab": {}
      },
      "cell_type": "code",
      "source": [
        "# utility function to measure time\n",
        "import time\n",
        "import math\n",
        "\n",
        "def timeSince(since):\n",
        "    now = time.time()\n",
        "    s = now - since\n",
        "    m = math.floor(s / 60)\n",
        "    s -= m * 60\n",
        "    return '%dm %ds' % (m, s)"
      ],
      "execution_count": 0,
      "outputs": []
    },
    {
      "metadata": {
        "id": "2l6rEvogrUQi",
        "colab_type": "code",
        "colab": {}
      },
      "cell_type": "code",
      "source": [
        "# define loss function\n",
        "\n",
        "criterion = nn.MSELoss()\n",
        "\n",
        "learning_rate = 0.0005\n",
        "\n",
        "\n",
        "# define train function that trains for one step\n",
        "def train(input_tensor, target_tensor):\n",
        "#    hidden = rnn.initHidden().to(DEVICE)   # not necessary\n",
        "    hidden = rnn.initHidden()\n",
        "\n",
        "#    print(\"hidden = {}\".format(hidden))\n",
        "  \n",
        "    rnn.zero_grad()\n",
        "\n",
        "    loss = 0\n",
        "\n",
        "    for i in range(input_tensor.size(0)):\n",
        "#        print(\"Input = {}, hidden = {}\".format(input_tensor[i], hidden))\n",
        "\n",
        "        output, hidden = rnn(input_tensor[i:i+1], hidden)\n",
        "  \n",
        "#        print(\"output = {}, target = {}\".format(output, target_tensor[i:i+1]))\n",
        "    \n",
        "        l = criterion(output, target_tensor[i:i+1])\n",
        "        loss += l\n",
        "        \n",
        "    loss.backward()\n",
        "\n",
        "    for p in rnn.parameters():\n",
        "        p.data.add_(-learning_rate, p.grad.data)\n",
        "\n",
        "    return output, loss.item() / input_tensor.size(0)"
      ],
      "execution_count": 0,
      "outputs": []
    },
    {
      "metadata": {
        "id": "Z2V3abRiAzZR",
        "colab_type": "text"
      },
      "cell_type": "markdown",
      "source": [
        "### Note that pytorch modules inputs a batch rather than a vector!"
      ]
    },
    {
      "metadata": {
        "id": "7J1qe7VRsuBy",
        "colab_type": "code",
        "outputId": "9c1f971f-c0d6-4451-983b-db1ba8ec926d",
        "colab": {
          "base_uri": "https://localhost:8080/",
          "height": 52
        }
      },
      "cell_type": "code",
      "source": [
        "# input_tensor[0].shape = torch.Size([2])\n",
        "print(\"input_tensor[0] = {}, shape = {}\".format(input_tensor[0], input_tensor[0].shape))\n",
        "\n",
        "# input_tensor[0:1].shape = torch.Size([1, 2])\n",
        "print(\"input_tensor[0:1] = {}, shape = {}\".format(input_tensor[0:1], input_tensor[0:1].shape))"
      ],
      "execution_count": 20,
      "outputs": [
        {
          "output_type": "stream",
          "text": [
            "input_tensor[0] = tensor([-0.0315,  0.9372]), shape = torch.Size([2])\n",
            "input_tensor[0:1] = tensor([[-0.0315,  0.9372]]), shape = torch.Size([1, 2])\n"
          ],
          "name": "stdout"
        }
      ]
    },
    {
      "metadata": {
        "id": "83I_c2wK2_b1",
        "colab_type": "code",
        "colab": {}
      },
      "cell_type": "code",
      "source": [
        "rnn = RNN(2, 32, 2)"
      ],
      "execution_count": 0,
      "outputs": []
    },
    {
      "metadata": {
        "id": "xT1BccAauPnj",
        "colab_type": "code",
        "outputId": "71f2a5ca-c71d-42ef-f738-d6a0273a9ba2",
        "colab": {
          "base_uri": "https://localhost:8080/",
          "height": 897
        }
      },
      "cell_type": "code",
      "source": [
        "n_iters = 10000\n",
        "print_every = 200\n",
        "plot_every = 200\n",
        "all_losses = []\n",
        "total_loss = 0 # Reset every plot_every iters\n",
        "\n",
        "start = time.time()\n",
        "\n",
        "for iter in range(1, n_iters + 1):\n",
        "    output, loss = train(input_tensor, target_tensor)\n",
        "    total_loss += loss\n",
        "\n",
        "    if iter % print_every == 0:\n",
        "        print('%s (%d %d%%) %.4f' % (timeSince(start), iter, iter / n_iters * 100, loss))\n",
        "\n",
        "    if iter % plot_every == 0:\n",
        "        all_losses.append(total_loss / plot_every)\n",
        "        total_loss = 0"
      ],
      "execution_count": 22,
      "outputs": [
        {
          "output_type": "stream",
          "text": [
            "0m 8s (200 2%) 0.0157\n",
            "0m 16s (400 4%) 0.0148\n",
            "0m 25s (600 6%) 0.0144\n",
            "0m 33s (800 8%) 0.0140\n",
            "0m 42s (1000 10%) 0.0138\n",
            "0m 50s (1200 12%) 0.0135\n",
            "0m 59s (1400 14%) 0.0133\n",
            "1m 7s (1600 16%) 0.0132\n",
            "1m 16s (1800 18%) 0.0130\n",
            "1m 24s (2000 20%) 0.0129\n",
            "1m 33s (2200 22%) 0.0127\n",
            "1m 41s (2400 24%) 0.0126\n",
            "1m 49s (2600 26%) 0.0125\n",
            "1m 58s (2800 28%) 0.0124\n",
            "2m 6s (3000 30%) 0.0123\n",
            "2m 15s (3200 32%) 0.0122\n",
            "2m 24s (3400 34%) 0.0121\n",
            "2m 32s (3600 36%) 0.0121\n",
            "2m 40s (3800 38%) 0.0120\n",
            "2m 48s (4000 40%) 0.0119\n",
            "2m 57s (4200 42%) 0.0119\n",
            "3m 5s (4400 44%) 0.0118\n",
            "3m 13s (4600 46%) 0.0118\n",
            "3m 22s (4800 48%) 0.0117\n",
            "3m 30s (5000 50%) 0.0117\n",
            "3m 39s (5200 52%) 0.0116\n",
            "3m 47s (5400 54%) 0.0116\n",
            "3m 56s (5600 56%) 0.0115\n",
            "4m 4s (5800 57%) 0.0115\n",
            "4m 13s (6000 60%) 0.0115\n",
            "4m 21s (6200 62%) 0.0114\n",
            "4m 29s (6400 64%) 0.0114\n",
            "4m 38s (6600 66%) 0.0114\n",
            "4m 46s (6800 68%) 0.0113\n",
            "4m 54s (7000 70%) 0.0113\n",
            "5m 3s (7200 72%) 0.0113\n",
            "5m 11s (7400 74%) 0.0112\n",
            "5m 19s (7600 76%) 0.0112\n",
            "5m 28s (7800 78%) 0.0112\n",
            "5m 36s (8000 80%) 0.0112\n",
            "5m 44s (8200 82%) 0.0111\n",
            "5m 52s (8400 84%) 0.0111\n",
            "6m 1s (8600 86%) 0.0111\n",
            "6m 9s (8800 88%) 0.0111\n",
            "6m 17s (9000 90%) 0.0110\n",
            "6m 26s (9200 92%) 0.0110\n",
            "6m 34s (9400 94%) 0.0110\n",
            "6m 42s (9600 96%) 0.0110\n",
            "6m 51s (9800 98%) 0.0109\n",
            "6m 59s (10000 100%) 0.0109\n"
          ],
          "name": "stdout"
        }
      ]
    },
    {
      "metadata": {
        "id": "qfOh_r9q8mjI",
        "colab_type": "code",
        "outputId": "455c033a-70d0-4762-e074-0e4a93e4ddc7",
        "colab": {
          "base_uri": "https://localhost:8080/",
          "height": 287
        }
      },
      "cell_type": "code",
      "source": [
        "import matplotlib.pyplot as plt\n",
        "import matplotlib.ticker as ticker\n",
        "\n",
        "plt.figure()\n",
        "plt.plot(all_losses)"
      ],
      "execution_count": 23,
      "outputs": [
        {
          "output_type": "execute_result",
          "data": {
            "text/plain": [
              "[<matplotlib.lines.Line2D at 0x7fb1fbc14780>]"
            ]
          },
          "metadata": {
            "tags": []
          },
          "execution_count": 23
        },
        {
          "output_type": "display_data",
          "data": {
            "image/png": "[encoded data removed]",
            "text/plain": [
              "<Figure size 432x288 with 1 Axes>"
            ]
          },
          "metadata": {
            "tags": []
          }
        }
      ]
    },
    {
      "metadata": {
        "id": "QhLvC2JNy1zl",
        "colab_type": "code",
        "outputId": "598a5281-d8f2-4387-a24b-f148b353ae87",
        "colab": {
          "base_uri": "https://localhost:8080/",
          "height": 34
        }
      },
      "cell_type": "code",
      "source": [
        "predict_tensor = torch.tensor([[np.sin(X[0]), np.cos(X[0])]])\n",
        "predict_tensor"
      ],
      "execution_count": 24,
      "outputs": [
        {
          "output_type": "execute_result",
          "data": {
            "text/plain": [
              "tensor([[0.0032, 1.0000]])"
            ]
          },
          "metadata": {
            "tags": []
          },
          "execution_count": 24
        }
      ]
    },
    {
      "metadata": {
        "id": "RUlq27zI6NZ1",
        "colab_type": "code",
        "colab": {}
      },
      "cell_type": "code",
      "source": [
        "hidden = rnn.initHidden();\n",
        "\n",
        "for i in range(1,len(X)):\n",
        "#  print(\"input = {}\".format(predict[-1:]))\n",
        "#  print(\"hidden = {}\".format(hidden))\n",
        "  output, hidden = rnn(predict_tensor[-1:], hidden)\n",
        "  \n",
        "#  print(\"output = {}\".format(output[0]))\n",
        "  \n",
        "  predict_tensor = torch.cat((predict_tensor, output[0]), 0)\n",
        "#  print(\"predict = {}\".format(predict))"
      ],
      "execution_count": 0,
      "outputs": []
    },
    {
      "metadata": {
        "id": "P-1-2h226XgR",
        "colab_type": "code",
        "outputId": "be8489d5-3086-471c-a5a2-95c6583d7518",
        "colab": {
          "base_uri": "https://localhost:8080/",
          "height": 193
        }
      },
      "cell_type": "code",
      "source": [
        "predict_tensor[:10]"
      ],
      "execution_count": 26,
      "outputs": [
        {
          "output_type": "execute_result",
          "data": {
            "text/plain": [
              "tensor([[0.0032, 1.0000],\n",
              "        [0.1799, 0.9281],\n",
              "        [0.2872, 0.9786],\n",
              "        [0.3964, 0.9708],\n",
              "        [0.5036, 0.9264],\n",
              "        [0.6054, 0.8575],\n",
              "        [0.6987, 0.7710],\n",
              "        [0.7808, 0.6716],\n",
              "        [0.8501, 0.5625],\n",
              "        [0.9052, 0.4463]], grad_fn=<SliceBackward>)"
            ]
          },
          "metadata": {
            "tags": []
          },
          "execution_count": 26
        }
      ]
    },
    {
      "metadata": {
        "id": "GxZ8Dik68dHl",
        "colab_type": "code",
        "outputId": "ff75595f-17e4-4e5a-cfa4-928748ca580d",
        "colab": {
          "base_uri": "https://localhost:8080/",
          "height": 286
        }
      },
      "cell_type": "code",
      "source": [
        "predict = predict_tensor.detach().numpy()\n",
        "plt.plot (X, predict[:,0])\n",
        "plt.plot (X, predict[:,1])\n"
      ],
      "execution_count": 27,
      "outputs": [
        {
          "output_type": "execute_result",
          "data": {
            "text/plain": [
              "[<matplotlib.lines.Line2D at 0x7fb1fbbcab38>]"
            ]
          },
          "metadata": {
            "tags": []
          },
          "execution_count": 27
        },
        {
          "output_type": "display_data",
          "data": {
            "image/png": "[encoded data removed]",
            "text/plain": [
              "<Figure size 432x288 with 1 Axes>"
            ]
          },
          "metadata": {
            "tags": []
          }
        }
      ]
    },
    {
      "metadata": {
        "id": "FHfXtXOo9J5K",
        "colab_type": "code",
        "colab": {}
      },
      "cell_type": "code",
      "source": [
        ""
      ],
      "execution_count": 0,
      "outputs": []
    }
  ]
}