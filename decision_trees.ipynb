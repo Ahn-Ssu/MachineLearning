{
  "nbformat": 4,
  "nbformat_minor": 0,
  "metadata": {
    "colab": {
      "name": "decision_trees.ipynb",
      "version": "0.3.2",
      "provenance": [],
      "collapsed_sections": []
    },
    "kernelspec": {
      "name": "python3",
      "display_name": "Python 3"
    }
  },
  "cells": [
    {
      "metadata": {
        "id": "2ngew4YNpHhq",
        "colab_type": "code",
        "outputId": "d84a4919-07c3-41b1-a0b4-d89712d0811c",
        "colab": {
          "base_uri": "https://localhost:8080/",
          "height": 474
        }
      },
      "cell_type": "code",
      "source": [
        "! pip install mglearn"
      ],
      "execution_count": 0,
      "outputs": [
        {
          "output_type": "stream",
          "text": [
            "Collecting mglearn\n",
            "\u001b[?25l  Downloading https://files.pythonhosted.org/packages/fb/01/8d3630ecc767c9de96a9c46e055f2a3a5f9e14a47d3d0348a36a5005fe67/mglearn-0.1.7.tar.gz (540kB)\n",
            "\u001b[K    100% |████████████████████████████████| 542kB 24.6MB/s \n",
            "\u001b[?25hRequirement already satisfied: numpy in /usr/local/lib/python3.6/dist-packages (from mglearn) (1.14.6)\n",
            "Requirement already satisfied: matplotlib in /usr/local/lib/python3.6/dist-packages (from mglearn) (3.0.3)\n",
            "Requirement already satisfied: scikit-learn in /usr/local/lib/python3.6/dist-packages (from mglearn) (0.20.3)\n",
            "Requirement already satisfied: pandas in /usr/local/lib/python3.6/dist-packages (from mglearn) (0.22.0)\n",
            "Requirement already satisfied: pillow in /usr/local/lib/python3.6/dist-packages (from mglearn) (4.1.1)\n",
            "Requirement already satisfied: cycler in /usr/local/lib/python3.6/dist-packages (from mglearn) (0.10.0)\n",
            "Requirement already satisfied: imageio in /usr/local/lib/python3.6/dist-packages (from mglearn) (2.4.1)\n",
            "Requirement already satisfied: python-dateutil>=2.1 in /usr/local/lib/python3.6/dist-packages (from matplotlib->mglearn) (2.5.3)\n",
            "Requirement already satisfied: kiwisolver>=1.0.1 in /usr/local/lib/python3.6/dist-packages (from matplotlib->mglearn) (1.0.1)\n",
            "Requirement already satisfied: pyparsing!=2.0.4,!=2.1.2,!=2.1.6,>=2.0.1 in /usr/local/lib/python3.6/dist-packages (from matplotlib->mglearn) (2.3.1)\n",
            "Requirement already satisfied: scipy>=0.13.3 in /usr/local/lib/python3.6/dist-packages (from scikit-learn->mglearn) (1.1.0)\n",
            "Requirement already satisfied: pytz>=2011k in /usr/local/lib/python3.6/dist-packages (from pandas->mglearn) (2018.9)\n",
            "Requirement already satisfied: olefile in /usr/local/lib/python3.6/dist-packages (from pillow->mglearn) (0.46)\n",
            "Requirement already satisfied: six in /usr/local/lib/python3.6/dist-packages (from cycler->mglearn) (1.11.0)\n",
            "Requirement already satisfied: setuptools in /usr/local/lib/python3.6/dist-packages (from kiwisolver>=1.0.1->matplotlib->mglearn) (40.9.0)\n",
            "Building wheels for collected packages: mglearn\n",
            "  Building wheel for mglearn (setup.py) ... \u001b[?25ldone\n",
            "\u001b[?25h  Stored in directory: /root/.cache/pip/wheels/74/cf/8d/04f4932d15854a36726c6210763c7127e62de28f5c8ddfcf3b\n",
            "Successfully built mglearn\n",
            "Installing collected packages: mglearn\n",
            "Successfully installed mglearn-0.1.7\n"
          ],
          "name": "stdout"
        }
      ]
    },
    {
      "metadata": {
        "id": "Qv9TL_i7pCOV",
        "colab_type": "code",
        "colab": {}
      },
      "cell_type": "code",
      "source": [
        "import numpy as np\n",
        "import sklearn as sk\n",
        "import matplotlib.pyplot as plt\n",
        "import mglearn"
      ],
      "execution_count": 0,
      "outputs": []
    },
    {
      "metadata": {
        "id": "rdapIDI_usE4",
        "colab_type": "text"
      },
      "cell_type": "markdown",
      "source": [
        "# Decision Trees and Random Forests"
      ]
    },
    {
      "metadata": {
        "id": "bvLWYPH1o-Wo",
        "colab_type": "text"
      },
      "cell_type": "markdown",
      "source": [
        "## Decision Trees\n",
        "\n",
        "See https://scikit-learn.org/stable/modules/generated/sklearn.tree.DecisionTreeClassifier.html"
      ]
    },
    {
      "metadata": {
        "id": "3xYcHG-Fo2Da",
        "colab_type": "code",
        "outputId": "f5cd8fc6-a0c9-4cfa-c978-69ea801dd308",
        "colab": {
          "base_uri": "https://localhost:8080/",
          "height": 169
        }
      },
      "cell_type": "code",
      "source": [
        "mglearn.plots.plot_animal_tree()"
      ],
      "execution_count": 1,
      "outputs": [
        {
          "output_type": "error",
          "ename": "NameError",
          "evalue": "ignored",
          "traceback": [
            "\u001b[0;31m---------------------------------------------------------------------------\u001b[0m",
            "\u001b[0;31mNameError\u001b[0m                                 Traceback (most recent call last)",
            "\u001b[0;32m<ipython-input-1-68d9ec4b28dc>\u001b[0m in \u001b[0;36m<module>\u001b[0;34m()\u001b[0m\n\u001b[0;32m----> 1\u001b[0;31m \u001b[0mmglearn\u001b[0m\u001b[0;34m.\u001b[0m\u001b[0mplots\u001b[0m\u001b[0;34m.\u001b[0m\u001b[0mplot_animal_tree\u001b[0m\u001b[0;34m(\u001b[0m\u001b[0;34m)\u001b[0m\u001b[0;34m\u001b[0m\u001b[0;34m\u001b[0m\u001b[0m\n\u001b[0m",
            "\u001b[0;31mNameError\u001b[0m: name 'mglearn' is not defined"
          ]
        }
      ]
    },
    {
      "metadata": {
        "id": "_nld6TNApcYq",
        "colab_type": "code",
        "colab": {}
      },
      "cell_type": "code",
      "source": [
        "# load data\n",
        "from sklearn.datasets import load_breast_cancer\n",
        "from sklearn.model_selection import train_test_split\n",
        "\n",
        "cancer = load_breast_cancer()\n",
        "X_train, X_test, y_train, y_test = train_test_split(cancer.data, cancer.target, stratify=cancer.target, random_state=42)"
      ],
      "execution_count": 0,
      "outputs": []
    },
    {
      "metadata": {
        "id": "zISaAK-TpSKm",
        "colab_type": "code",
        "outputId": "167d5f2e-b7d7-4f78-9595-ead85685f605",
        "colab": {
          "base_uri": "https://localhost:8080/",
          "height": 52
        }
      },
      "cell_type": "code",
      "source": [
        "# DT with unlimited depth (overfitting)\n",
        "\n",
        "from sklearn.tree import DecisionTreeClassifier\n",
        "tree = DecisionTreeClassifier(random_state=0)\n",
        "tree.fit(X_train, y_train)\n",
        "print(\"Accuracy on training set: {:.3f}\".format(tree.score(X_train, y_train)))\n",
        "print(\"Accuracy on test set: {:.3f}\".format(tree.score(X_test, y_test)))"
      ],
      "execution_count": 3,
      "outputs": [
        {
          "output_type": "stream",
          "text": [
            "Accuracy on training set: 1.000\n",
            "Accuracy on test set: 0.937\n"
          ],
          "name": "stdout"
        }
      ]
    },
    {
      "metadata": {
        "id": "S3dcs6bVpTde",
        "colab_type": "code",
        "outputId": "9fc49a4e-4960-4db6-8220-c9ef3995164c",
        "colab": {
          "base_uri": "https://localhost:8080/",
          "height": 52
        }
      },
      "cell_type": "code",
      "source": [
        "# DT with maximum depth = 4\n",
        "\n",
        "tree = DecisionTreeClassifier(max_depth=4, random_state=0)\n",
        "tree.fit(X_train, y_train)\n",
        "print(\"Accuracy on training set: {:.3f}\".format(tree.score(X_train, y_train)))\n",
        "print(\"Accuracy on test set: {:.3f}\".format(tree.score(X_test, y_test)))"
      ],
      "execution_count": 4,
      "outputs": [
        {
          "output_type": "stream",
          "text": [
            "Accuracy on training set: 0.988\n",
            "Accuracy on test set: 0.951\n"
          ],
          "name": "stdout"
        }
      ]
    },
    {
      "metadata": {
        "id": "OiOrngHmqBOz",
        "colab_type": "code",
        "colab": {}
      },
      "cell_type": "code",
      "source": [
        "# Analyzing decision tree\n",
        "from sklearn.tree import export_graphviz\n",
        "export_graphviz(tree, out_file=\"tree.dot\", class_names=[\"malignant\", \"benign\"],\n",
        "feature_names=cancer.feature_names, impurity=False, filled=True)"
      ],
      "execution_count": 0,
      "outputs": []
    },
    {
      "metadata": {
        "id": "kxOnLTR1qEIa",
        "colab_type": "code",
        "outputId": "596f60f0-52a9-4a6d-a73b-8a32b42354e0",
        "colab": {
          "base_uri": "https://localhost:8080/",
          "height": 655
        }
      },
      "cell_type": "code",
      "source": [
        "import graphviz\n",
        "with open(\"tree.dot\") as f:\n",
        "  dot_graph = f.read()\n",
        "display(graphviz.Source(dot_graph))"
      ],
      "execution_count": 6,
      "outputs": [
        {
          "output_type": "display_data",
          "data": {
            "text/plain": [
              "<graphviz.files.Source at 0x7ff059d8b4e0>"
            ],
            "image/svg+xml": "<?xml version=\"1.0\" encoding=\"UTF-8\" standalone=\"no\"?>\n<!DOCTYPE svg PUBLIC \"-//W3C//DTD SVG 1.1//EN\"\n \"http://www.w3.org/Graphics/SVG/1.1/DTD/svg11.dtd\">\n<!-- Generated by graphviz version 2.40.1 (20161225.0304)\n -->\n<!-- Title: Tree Pages: 1 -->\n<svg width=\"1052pt\" height=\"477pt\"\n viewBox=\"0.00 0.00 1052.00 477.00\" xmlns=\"http://www.w3.org/2000/svg\" xmlns:xlink=\"http://www.w3.org/1999/xlink\">\n<g id=\"graph0\" class=\"graph\" transform=\"scale(1 1) rotate(0) translate(4 473)\">\n<title>Tree</title>\n<polygon fill=\"#ffffff\" stroke=\"transparent\" points=\"-4,4 -4,-473 1048,-473 1048,4 -4,4\"/>\n<!-- 0 -->\n<g id=\"node1\" class=\"node\">\n<title>0</title>\n<polygon fill=\"#399de5\" fill-opacity=\"0.403922\" stroke=\"#000000\" points=\"654,-469 502,-469 502,-401 654,-401 654,-469\"/>\n<text text-anchor=\"middle\" x=\"578\" y=\"-453.8\" font-family=\"Times,serif\" font-size=\"14.00\" fill=\"#000000\">worst radius &lt;= 16.795</text>\n<text text-anchor=\"middle\" x=\"578\" y=\"-438.8\" font-family=\"Times,serif\" font-size=\"14.00\" fill=\"#000000\">samples = 426</text>\n<text text-anchor=\"middle\" x=\"578\" y=\"-423.8\" font-family=\"Times,serif\" font-size=\"14.00\" fill=\"#000000\">value = [159, 267]</text>\n<text text-anchor=\"middle\" x=\"578\" y=\"-408.8\" font-family=\"Times,serif\" font-size=\"14.00\" fill=\"#000000\">class = benign</text>\n</g>\n<!-- 1 -->\n<g id=\"node2\" class=\"node\">\n<title>1</title>\n<polygon fill=\"#399de5\" fill-opacity=\"0.901961\" stroke=\"#000000\" points=\"563.5,-365 368.5,-365 368.5,-297 563.5,-297 563.5,-365\"/>\n<text text-anchor=\"middle\" x=\"466\" y=\"-349.8\" font-family=\"Times,serif\" font-size=\"14.00\" fill=\"#000000\">worst concave points &lt;= 0.136</text>\n<text text-anchor=\"middle\" x=\"466\" y=\"-334.8\" font-family=\"Times,serif\" font-size=\"14.00\" fill=\"#000000\">samples = 284</text>\n<text text-anchor=\"middle\" x=\"466\" y=\"-319.8\" font-family=\"Times,serif\" font-size=\"14.00\" fill=\"#000000\">value = [25, 259]</text>\n<text text-anchor=\"middle\" x=\"466\" y=\"-304.8\" font-family=\"Times,serif\" font-size=\"14.00\" fill=\"#000000\">class = benign</text>\n</g>\n<!-- 0&#45;&gt;1 -->\n<g id=\"edge1\" class=\"edge\">\n<title>0&#45;&gt;1</title>\n<path fill=\"none\" stroke=\"#000000\" d=\"M541.327,-400.9465C531.3677,-391.6986 520.4789,-381.5876 510.1532,-371.9994\"/>\n<polygon fill=\"#000000\" stroke=\"#000000\" points=\"512.4649,-369.3698 502.7554,-365.13 507.7018,-374.4993 512.4649,-369.3698\"/>\n<text text-anchor=\"middle\" x=\"503.6807\" y=\"-386.4129\" font-family=\"Times,serif\" font-size=\"14.00\" fill=\"#000000\">True</text>\n</g>\n<!-- 14 -->\n<g id=\"node15\" class=\"node\">\n<title>14</title>\n<polygon fill=\"#e58139\" fill-opacity=\"0.941176\" stroke=\"#000000\" points=\"736,-365 592,-365 592,-297 736,-297 736,-365\"/>\n<text text-anchor=\"middle\" x=\"664\" y=\"-349.8\" font-family=\"Times,serif\" font-size=\"14.00\" fill=\"#000000\">texture error &lt;= 0.473</text>\n<text text-anchor=\"middle\" x=\"664\" y=\"-334.8\" font-family=\"Times,serif\" font-size=\"14.00\" fill=\"#000000\">samples = 142</text>\n<text text-anchor=\"middle\" x=\"664\" y=\"-319.8\" font-family=\"Times,serif\" font-size=\"14.00\" fill=\"#000000\">value = [134, 8]</text>\n<text text-anchor=\"middle\" x=\"664\" y=\"-304.8\" font-family=\"Times,serif\" font-size=\"14.00\" fill=\"#000000\">class = malignant</text>\n</g>\n<!-- 0&#45;&gt;14 -->\n<g id=\"edge14\" class=\"edge\">\n<title>0&#45;&gt;14</title>\n<path fill=\"none\" stroke=\"#000000\" d=\"M606.1596,-400.9465C613.5842,-391.968 621.6815,-382.1758 629.4028,-372.8385\"/>\n<polygon fill=\"#000000\" stroke=\"#000000\" points=\"632.1017,-375.0669 635.7771,-365.13 626.7072,-370.606 632.1017,-375.0669\"/>\n<text text-anchor=\"middle\" x=\"638.135\" y=\"-386.3186\" font-family=\"Times,serif\" font-size=\"14.00\" fill=\"#000000\">False</text>\n</g>\n<!-- 2 -->\n<g id=\"node3\" class=\"node\">\n<title>2</title>\n<polygon fill=\"#399de5\" fill-opacity=\"0.984314\" stroke=\"#000000\" points=\"363,-261 223,-261 223,-193 363,-193 363,-261\"/>\n<text text-anchor=\"middle\" x=\"293\" y=\"-245.8\" font-family=\"Times,serif\" font-size=\"14.00\" fill=\"#000000\">radius error &lt;= 1.048</text>\n<text text-anchor=\"middle\" x=\"293\" y=\"-230.8\" font-family=\"Times,serif\" font-size=\"14.00\" fill=\"#000000\">samples = 252</text>\n<text text-anchor=\"middle\" x=\"293\" y=\"-215.8\" font-family=\"Times,serif\" font-size=\"14.00\" fill=\"#000000\">value = [4, 248]</text>\n<text text-anchor=\"middle\" x=\"293\" y=\"-200.8\" font-family=\"Times,serif\" font-size=\"14.00\" fill=\"#000000\">class = benign</text>\n</g>\n<!-- 1&#45;&gt;2 -->\n<g id=\"edge2\" class=\"edge\">\n<title>1&#45;&gt;2</title>\n<path fill=\"none\" stroke=\"#000000\" d=\"M409.3533,-296.9465C393.0737,-287.1599 375.186,-276.4066 358.423,-266.3294\"/>\n<polygon fill=\"#000000\" stroke=\"#000000\" points=\"360.1478,-263.2826 349.7739,-261.13 356.5412,-269.282 360.1478,-263.2826\"/>\n</g>\n<!-- 7 -->\n<g id=\"node8\" class=\"node\">\n<title>7</title>\n<polygon fill=\"#e58139\" fill-opacity=\"0.474510\" stroke=\"#000000\" points=\"540.5,-261 391.5,-261 391.5,-193 540.5,-193 540.5,-261\"/>\n<text text-anchor=\"middle\" x=\"466\" y=\"-245.8\" font-family=\"Times,serif\" font-size=\"14.00\" fill=\"#000000\">worst texture &lt;= 25.62</text>\n<text text-anchor=\"middle\" x=\"466\" y=\"-230.8\" font-family=\"Times,serif\" font-size=\"14.00\" fill=\"#000000\">samples = 32</text>\n<text text-anchor=\"middle\" x=\"466\" y=\"-215.8\" font-family=\"Times,serif\" font-size=\"14.00\" fill=\"#000000\">value = [21, 11]</text>\n<text text-anchor=\"middle\" x=\"466\" y=\"-200.8\" font-family=\"Times,serif\" font-size=\"14.00\" fill=\"#000000\">class = malignant</text>\n</g>\n<!-- 1&#45;&gt;7 -->\n<g id=\"edge7\" class=\"edge\">\n<title>1&#45;&gt;7</title>\n<path fill=\"none\" stroke=\"#000000\" d=\"M466,-296.9465C466,-288.776 466,-279.9318 466,-271.3697\"/>\n<polygon fill=\"#000000\" stroke=\"#000000\" points=\"469.5001,-271.13 466,-261.13 462.5001,-271.13 469.5001,-271.13\"/>\n</g>\n<!-- 3 -->\n<g id=\"node4\" class=\"node\">\n<title>3</title>\n<polygon fill=\"#399de5\" fill-opacity=\"0.988235\" stroke=\"#000000\" points=\"217,-157 45,-157 45,-89 217,-89 217,-157\"/>\n<text text-anchor=\"middle\" x=\"131\" y=\"-141.8\" font-family=\"Times,serif\" font-size=\"14.00\" fill=\"#000000\">smoothness error &lt;= 0.003</text>\n<text text-anchor=\"middle\" x=\"131\" y=\"-126.8\" font-family=\"Times,serif\" font-size=\"14.00\" fill=\"#000000\">samples = 251</text>\n<text text-anchor=\"middle\" x=\"131\" y=\"-111.8\" font-family=\"Times,serif\" font-size=\"14.00\" fill=\"#000000\">value = [3, 248]</text>\n<text text-anchor=\"middle\" x=\"131\" y=\"-96.8\" font-family=\"Times,serif\" font-size=\"14.00\" fill=\"#000000\">class = benign</text>\n</g>\n<!-- 2&#45;&gt;3 -->\n<g id=\"edge3\" class=\"edge\">\n<title>2&#45;&gt;3</title>\n<path fill=\"none\" stroke=\"#000000\" d=\"M239.9551,-192.9465C224.8505,-183.2497 208.2676,-172.6039 192.6954,-162.6069\"/>\n<polygon fill=\"#000000\" stroke=\"#000000\" points=\"194.47,-159.5871 184.164,-157.13 190.6884,-165.4777 194.47,-159.5871\"/>\n</g>\n<!-- 6 -->\n<g id=\"node7\" class=\"node\">\n<title>6</title>\n<polygon fill=\"#e58139\" stroke=\"#000000\" points=\"351,-149.5 235,-149.5 235,-96.5 351,-96.5 351,-149.5\"/>\n<text text-anchor=\"middle\" x=\"293\" y=\"-134.3\" font-family=\"Times,serif\" font-size=\"14.00\" fill=\"#000000\">samples = 1</text>\n<text text-anchor=\"middle\" x=\"293\" y=\"-119.3\" font-family=\"Times,serif\" font-size=\"14.00\" fill=\"#000000\">value = [1, 0]</text>\n<text text-anchor=\"middle\" x=\"293\" y=\"-104.3\" font-family=\"Times,serif\" font-size=\"14.00\" fill=\"#000000\">class = malignant</text>\n</g>\n<!-- 2&#45;&gt;6 -->\n<g id=\"edge6\" class=\"edge\">\n<title>2&#45;&gt;6</title>\n<path fill=\"none\" stroke=\"#000000\" d=\"M293,-192.9465C293,-182.2621 293,-170.4254 293,-159.5742\"/>\n<polygon fill=\"#000000\" stroke=\"#000000\" points=\"296.5001,-159.5421 293,-149.5422 289.5001,-159.5422 296.5001,-159.5421\"/>\n</g>\n<!-- 4 -->\n<g id=\"node5\" class=\"node\">\n<title>4</title>\n<polygon fill=\"#399de5\" fill-opacity=\"0.666667\" stroke=\"#000000\" points=\"98,-53 0,-53 0,0 98,0 98,-53\"/>\n<text text-anchor=\"middle\" x=\"49\" y=\"-37.8\" font-family=\"Times,serif\" font-size=\"14.00\" fill=\"#000000\">samples = 4</text>\n<text text-anchor=\"middle\" x=\"49\" y=\"-22.8\" font-family=\"Times,serif\" font-size=\"14.00\" fill=\"#000000\">value = [1, 3]</text>\n<text text-anchor=\"middle\" x=\"49\" y=\"-7.8\" font-family=\"Times,serif\" font-size=\"14.00\" fill=\"#000000\">class = benign</text>\n</g>\n<!-- 3&#45;&gt;4 -->\n<g id=\"edge4\" class=\"edge\">\n<title>3&#45;&gt;4</title>\n<path fill=\"none\" stroke=\"#000000\" d=\"M102.0899,-88.9777C94.3866,-79.9123 86.0581,-70.111 78.3324,-61.0192\"/>\n<polygon fill=\"#000000\" stroke=\"#000000\" points=\"80.8718,-58.6025 71.7293,-53.2485 75.5375,-63.1352 80.8718,-58.6025\"/>\n</g>\n<!-- 5 -->\n<g id=\"node6\" class=\"node\">\n<title>5</title>\n<polygon fill=\"#399de5\" fill-opacity=\"0.992157\" stroke=\"#000000\" points=\"226,-53 116,-53 116,0 226,0 226,-53\"/>\n<text text-anchor=\"middle\" x=\"171\" y=\"-37.8\" font-family=\"Times,serif\" font-size=\"14.00\" fill=\"#000000\">samples = 247</text>\n<text text-anchor=\"middle\" x=\"171\" y=\"-22.8\" font-family=\"Times,serif\" font-size=\"14.00\" fill=\"#000000\">value = [2, 245]</text>\n<text text-anchor=\"middle\" x=\"171\" y=\"-7.8\" font-family=\"Times,serif\" font-size=\"14.00\" fill=\"#000000\">class = benign</text>\n</g>\n<!-- 3&#45;&gt;5 -->\n<g id=\"edge5\" class=\"edge\">\n<title>3&#45;&gt;5</title>\n<path fill=\"none\" stroke=\"#000000\" d=\"M145.1025,-88.9777C148.6324,-80.4617 152.4316,-71.2963 156.0032,-62.6798\"/>\n<polygon fill=\"#000000\" stroke=\"#000000\" points=\"159.3166,-63.8265 159.9125,-53.2485 152.8501,-61.1461 159.3166,-63.8265\"/>\n</g>\n<!-- 8 -->\n<g id=\"node9\" class=\"node\">\n<title>8</title>\n<polygon fill=\"#399de5\" fill-opacity=\"0.666667\" stroke=\"#000000\" points=\"545,-157 369,-157 369,-89 545,-89 545,-157\"/>\n<text text-anchor=\"middle\" x=\"457\" y=\"-141.8\" font-family=\"Times,serif\" font-size=\"14.00\" fill=\"#000000\">worst smoothness &lt;= 0.179</text>\n<text text-anchor=\"middle\" x=\"457\" y=\"-126.8\" font-family=\"Times,serif\" font-size=\"14.00\" fill=\"#000000\">samples = 12</text>\n<text text-anchor=\"middle\" x=\"457\" y=\"-111.8\" font-family=\"Times,serif\" font-size=\"14.00\" fill=\"#000000\">value = [3, 9]</text>\n<text text-anchor=\"middle\" x=\"457\" y=\"-96.8\" font-family=\"Times,serif\" font-size=\"14.00\" fill=\"#000000\">class = benign</text>\n</g>\n<!-- 7&#45;&gt;8 -->\n<g id=\"edge8\" class=\"edge\">\n<title>7&#45;&gt;8</title>\n<path fill=\"none\" stroke=\"#000000\" d=\"M463.0531,-192.9465C462.346,-184.776 461.5806,-175.9318 460.8397,-167.3697\"/>\n<polygon fill=\"#000000\" stroke=\"#000000\" points=\"464.3028,-166.791 459.9536,-157.13 457.3288,-167.3945 464.3028,-166.791\"/>\n</g>\n<!-- 11 -->\n<g id=\"node12\" class=\"node\">\n<title>11</title>\n<polygon fill=\"#e58139\" fill-opacity=\"0.890196\" stroke=\"#000000\" points=\"729.5,-157 562.5,-157 562.5,-89 729.5,-89 729.5,-157\"/>\n<text text-anchor=\"middle\" x=\"646\" y=\"-141.8\" font-family=\"Times,serif\" font-size=\"14.00\" fill=\"#000000\">worst symmetry &lt;= 0.268</text>\n<text text-anchor=\"middle\" x=\"646\" y=\"-126.8\" font-family=\"Times,serif\" font-size=\"14.00\" fill=\"#000000\">samples = 20</text>\n<text text-anchor=\"middle\" x=\"646\" y=\"-111.8\" font-family=\"Times,serif\" font-size=\"14.00\" fill=\"#000000\">value = [18, 2]</text>\n<text text-anchor=\"middle\" x=\"646\" y=\"-96.8\" font-family=\"Times,serif\" font-size=\"14.00\" fill=\"#000000\">class = malignant</text>\n</g>\n<!-- 7&#45;&gt;11 -->\n<g id=\"edge11\" class=\"edge\">\n<title>7&#45;&gt;11</title>\n<path fill=\"none\" stroke=\"#000000\" d=\"M524.9387,-192.9465C541.8771,-183.1599 560.4885,-172.4066 577.9299,-162.3294\"/>\n<polygon fill=\"#000000\" stroke=\"#000000\" points=\"580.0212,-165.1634 586.9289,-157.13 576.5192,-159.1023 580.0212,-165.1634\"/>\n</g>\n<!-- 9 -->\n<g id=\"node10\" class=\"node\">\n<title>9</title>\n<polygon fill=\"#399de5\" fill-opacity=\"0.890196\" stroke=\"#000000\" points=\"381,-53 283,-53 283,0 381,0 381,-53\"/>\n<text text-anchor=\"middle\" x=\"332\" y=\"-37.8\" font-family=\"Times,serif\" font-size=\"14.00\" fill=\"#000000\">samples = 10</text>\n<text text-anchor=\"middle\" x=\"332\" y=\"-22.8\" font-family=\"Times,serif\" font-size=\"14.00\" fill=\"#000000\">value = [1, 9]</text>\n<text text-anchor=\"middle\" x=\"332\" y=\"-7.8\" font-family=\"Times,serif\" font-size=\"14.00\" fill=\"#000000\">class = benign</text>\n</g>\n<!-- 8&#45;&gt;9 -->\n<g id=\"edge9\" class=\"edge\">\n<title>8&#45;&gt;9</title>\n<path fill=\"none\" stroke=\"#000000\" d=\"M412.9297,-88.9777C400.4752,-79.3629 386.9485,-68.9203 374.5833,-59.3743\"/>\n<polygon fill=\"#000000\" stroke=\"#000000\" points=\"376.7028,-56.5889 366.6483,-53.2485 372.4251,-62.1299 376.7028,-56.5889\"/>\n</g>\n<!-- 10 -->\n<g id=\"node11\" class=\"node\">\n<title>10</title>\n<polygon fill=\"#e58139\" stroke=\"#000000\" points=\"515,-53 399,-53 399,0 515,0 515,-53\"/>\n<text text-anchor=\"middle\" x=\"457\" y=\"-37.8\" font-family=\"Times,serif\" font-size=\"14.00\" fill=\"#000000\">samples = 2</text>\n<text text-anchor=\"middle\" x=\"457\" y=\"-22.8\" font-family=\"Times,serif\" font-size=\"14.00\" fill=\"#000000\">value = [2, 0]</text>\n<text text-anchor=\"middle\" x=\"457\" y=\"-7.8\" font-family=\"Times,serif\" font-size=\"14.00\" fill=\"#000000\">class = malignant</text>\n</g>\n<!-- 8&#45;&gt;10 -->\n<g id=\"edge10\" class=\"edge\">\n<title>8&#45;&gt;10</title>\n<path fill=\"none\" stroke=\"#000000\" d=\"M457,-88.9777C457,-80.7364 457,-71.887 457,-63.5153\"/>\n<polygon fill=\"#000000\" stroke=\"#000000\" points=\"460.5001,-63.2484 457,-53.2485 453.5001,-63.2485 460.5001,-63.2484\"/>\n</g>\n<!-- 12 -->\n<g id=\"node13\" class=\"node\">\n<title>12</title>\n<polygon fill=\"#399de5\" fill-opacity=\"0.498039\" stroke=\"#000000\" points=\"631,-53 533,-53 533,0 631,0 631,-53\"/>\n<text text-anchor=\"middle\" x=\"582\" y=\"-37.8\" font-family=\"Times,serif\" font-size=\"14.00\" fill=\"#000000\">samples = 3</text>\n<text text-anchor=\"middle\" x=\"582\" y=\"-22.8\" font-family=\"Times,serif\" font-size=\"14.00\" fill=\"#000000\">value = [1, 2]</text>\n<text text-anchor=\"middle\" x=\"582\" y=\"-7.8\" font-family=\"Times,serif\" font-size=\"14.00\" fill=\"#000000\">class = benign</text>\n</g>\n<!-- 11&#45;&gt;12 -->\n<g id=\"edge12\" class=\"edge\">\n<title>11&#45;&gt;12</title>\n<path fill=\"none\" stroke=\"#000000\" d=\"M623.436,-88.9777C617.6059,-80.187 611.3169,-70.7044 605.443,-61.8477\"/>\n<polygon fill=\"#000000\" stroke=\"#000000\" points=\"608.1838,-59.6478 599.7399,-53.2485 602.3502,-63.5167 608.1838,-59.6478\"/>\n</g>\n<!-- 13 -->\n<g id=\"node14\" class=\"node\">\n<title>13</title>\n<polygon fill=\"#e58139\" stroke=\"#000000\" points=\"765,-53 649,-53 649,0 765,0 765,-53\"/>\n<text text-anchor=\"middle\" x=\"707\" y=\"-37.8\" font-family=\"Times,serif\" font-size=\"14.00\" fill=\"#000000\">samples = 17</text>\n<text text-anchor=\"middle\" x=\"707\" y=\"-22.8\" font-family=\"Times,serif\" font-size=\"14.00\" fill=\"#000000\">value = [17, 0]</text>\n<text text-anchor=\"middle\" x=\"707\" y=\"-7.8\" font-family=\"Times,serif\" font-size=\"14.00\" fill=\"#000000\">class = malignant</text>\n</g>\n<!-- 11&#45;&gt;13 -->\n<g id=\"edge13\" class=\"edge\">\n<title>11&#45;&gt;13</title>\n<path fill=\"none\" stroke=\"#000000\" d=\"M667.5063,-88.9777C673.0631,-80.187 679.0573,-70.7044 684.6559,-61.8477\"/>\n<polygon fill=\"#000000\" stroke=\"#000000\" points=\"687.7069,-63.5714 690.0916,-53.2485 681.7899,-59.8312 687.7069,-63.5714\"/>\n</g>\n<!-- 15 -->\n<g id=\"node16\" class=\"node\">\n<title>15</title>\n<polygon fill=\"#399de5\" stroke=\"#000000\" points=\"713,-253.5 615,-253.5 615,-200.5 713,-200.5 713,-253.5\"/>\n<text text-anchor=\"middle\" x=\"664\" y=\"-238.3\" font-family=\"Times,serif\" font-size=\"14.00\" fill=\"#000000\">samples = 5</text>\n<text text-anchor=\"middle\" x=\"664\" y=\"-223.3\" font-family=\"Times,serif\" font-size=\"14.00\" fill=\"#000000\">value = [0, 5]</text>\n<text text-anchor=\"middle\" x=\"664\" y=\"-208.3\" font-family=\"Times,serif\" font-size=\"14.00\" fill=\"#000000\">class = benign</text>\n</g>\n<!-- 14&#45;&gt;15 -->\n<g id=\"edge15\" class=\"edge\">\n<title>14&#45;&gt;15</title>\n<path fill=\"none\" stroke=\"#000000\" d=\"M664,-296.9465C664,-286.2621 664,-274.4254 664,-263.5742\"/>\n<polygon fill=\"#000000\" stroke=\"#000000\" points=\"667.5001,-263.5421 664,-253.5422 660.5001,-263.5422 667.5001,-263.5421\"/>\n</g>\n<!-- 16 -->\n<g id=\"node17\" class=\"node\">\n<title>16</title>\n<polygon fill=\"#e58139\" fill-opacity=\"0.976471\" stroke=\"#000000\" points=\"914.5,-261 749.5,-261 749.5,-193 914.5,-193 914.5,-261\"/>\n<text text-anchor=\"middle\" x=\"832\" y=\"-245.8\" font-family=\"Times,serif\" font-size=\"14.00\" fill=\"#000000\">worst concavity &lt;= 0.191</text>\n<text text-anchor=\"middle\" x=\"832\" y=\"-230.8\" font-family=\"Times,serif\" font-size=\"14.00\" fill=\"#000000\">samples = 137</text>\n<text text-anchor=\"middle\" x=\"832\" y=\"-215.8\" font-family=\"Times,serif\" font-size=\"14.00\" fill=\"#000000\">value = [134, 3]</text>\n<text text-anchor=\"middle\" x=\"832\" y=\"-200.8\" font-family=\"Times,serif\" font-size=\"14.00\" fill=\"#000000\">class = malignant</text>\n</g>\n<!-- 14&#45;&gt;16 -->\n<g id=\"edge16\" class=\"edge\">\n<title>14&#45;&gt;16</title>\n<path fill=\"none\" stroke=\"#000000\" d=\"M719.0095,-296.9465C734.6736,-287.2497 751.8707,-276.6039 768.0196,-266.6069\"/>\n<polygon fill=\"#000000\" stroke=\"#000000\" points=\"770.2065,-269.3695 776.8669,-261.13 766.522,-263.4177 770.2065,-269.3695\"/>\n</g>\n<!-- 17 -->\n<g id=\"node18\" class=\"node\">\n<title>17</title>\n<polygon fill=\"#399de5\" fill-opacity=\"0.333333\" stroke=\"#000000\" points=\"910,-157 754,-157 754,-89 910,-89 910,-157\"/>\n<text text-anchor=\"middle\" x=\"832\" y=\"-141.8\" font-family=\"Times,serif\" font-size=\"14.00\" fill=\"#000000\">worst texture &lt;= 30.975</text>\n<text text-anchor=\"middle\" x=\"832\" y=\"-126.8\" font-family=\"Times,serif\" font-size=\"14.00\" fill=\"#000000\">samples = 5</text>\n<text text-anchor=\"middle\" x=\"832\" y=\"-111.8\" font-family=\"Times,serif\" font-size=\"14.00\" fill=\"#000000\">value = [2, 3]</text>\n<text text-anchor=\"middle\" x=\"832\" y=\"-96.8\" font-family=\"Times,serif\" font-size=\"14.00\" fill=\"#000000\">class = benign</text>\n</g>\n<!-- 16&#45;&gt;17 -->\n<g id=\"edge17\" class=\"edge\">\n<title>16&#45;&gt;17</title>\n<path fill=\"none\" stroke=\"#000000\" d=\"M832,-192.9465C832,-184.776 832,-175.9318 832,-167.3697\"/>\n<polygon fill=\"#000000\" stroke=\"#000000\" points=\"835.5001,-167.13 832,-157.13 828.5001,-167.13 835.5001,-167.13\"/>\n</g>\n<!-- 20 -->\n<g id=\"node21\" class=\"node\">\n<title>20</title>\n<polygon fill=\"#e58139\" stroke=\"#000000\" points=\"1044,-149.5 928,-149.5 928,-96.5 1044,-96.5 1044,-149.5\"/>\n<text text-anchor=\"middle\" x=\"986\" y=\"-134.3\" font-family=\"Times,serif\" font-size=\"14.00\" fill=\"#000000\">samples = 132</text>\n<text text-anchor=\"middle\" x=\"986\" y=\"-119.3\" font-family=\"Times,serif\" font-size=\"14.00\" fill=\"#000000\">value = [132, 0]</text>\n<text text-anchor=\"middle\" x=\"986\" y=\"-104.3\" font-family=\"Times,serif\" font-size=\"14.00\" fill=\"#000000\">class = malignant</text>\n</g>\n<!-- 16&#45;&gt;20 -->\n<g id=\"edge20\" class=\"edge\">\n<title>16&#45;&gt;20</title>\n<path fill=\"none\" stroke=\"#000000\" d=\"M882.4254,-192.9465C900.3669,-180.8301 920.5026,-167.232 938.2162,-155.2696\"/>\n<polygon fill=\"#000000\" stroke=\"#000000\" points=\"940.3687,-158.0393 946.6972,-149.5422 936.4511,-152.2382 940.3687,-158.0393\"/>\n</g>\n<!-- 18 -->\n<g id=\"node19\" class=\"node\">\n<title>18</title>\n<polygon fill=\"#399de5\" stroke=\"#000000\" points=\"881,-53 783,-53 783,0 881,0 881,-53\"/>\n<text text-anchor=\"middle\" x=\"832\" y=\"-37.8\" font-family=\"Times,serif\" font-size=\"14.00\" fill=\"#000000\">samples = 3</text>\n<text text-anchor=\"middle\" x=\"832\" y=\"-22.8\" font-family=\"Times,serif\" font-size=\"14.00\" fill=\"#000000\">value = [0, 3]</text>\n<text text-anchor=\"middle\" x=\"832\" y=\"-7.8\" font-family=\"Times,serif\" font-size=\"14.00\" fill=\"#000000\">class = benign</text>\n</g>\n<!-- 17&#45;&gt;18 -->\n<g id=\"edge18\" class=\"edge\">\n<title>17&#45;&gt;18</title>\n<path fill=\"none\" stroke=\"#000000\" d=\"M832,-88.9777C832,-80.7364 832,-71.887 832,-63.5153\"/>\n<polygon fill=\"#000000\" stroke=\"#000000\" points=\"835.5001,-63.2484 832,-53.2485 828.5001,-63.2485 835.5001,-63.2484\"/>\n</g>\n<!-- 19 -->\n<g id=\"node20\" class=\"node\">\n<title>19</title>\n<polygon fill=\"#e58139\" stroke=\"#000000\" points=\"1015,-53 899,-53 899,0 1015,0 1015,-53\"/>\n<text text-anchor=\"middle\" x=\"957\" y=\"-37.8\" font-family=\"Times,serif\" font-size=\"14.00\" fill=\"#000000\">samples = 2</text>\n<text text-anchor=\"middle\" x=\"957\" y=\"-22.8\" font-family=\"Times,serif\" font-size=\"14.00\" fill=\"#000000\">value = [2, 0]</text>\n<text text-anchor=\"middle\" x=\"957\" y=\"-7.8\" font-family=\"Times,serif\" font-size=\"14.00\" fill=\"#000000\">class = malignant</text>\n</g>\n<!-- 17&#45;&gt;19 -->\n<g id=\"edge19\" class=\"edge\">\n<title>17&#45;&gt;19</title>\n<path fill=\"none\" stroke=\"#000000\" d=\"M876.0703,-88.9777C888.5248,-79.3629 902.0515,-68.9203 914.4167,-59.3743\"/>\n<polygon fill=\"#000000\" stroke=\"#000000\" points=\"916.5749,-62.1299 922.3517,-53.2485 912.2972,-56.5889 916.5749,-62.1299\"/>\n</g>\n</g>\n</svg>\n"
          },
          "metadata": {
            "tags": []
          }
        }
      ]
    },
    {
      "metadata": {
        "id": "vYqXtRz1qGOQ",
        "colab_type": "code",
        "outputId": "3867be4c-1f7d-4ca4-a527-6e0d7fb28312",
        "colab": {
          "base_uri": "https://localhost:8080/",
          "height": 327
        }
      },
      "cell_type": "code",
      "source": [
        "def plot_feature_importances_cancer(model):\n",
        "  n_features = cancer.data.shape[1]\n",
        "  plt.barh(range(n_features), model.feature_importances_, align='center')\n",
        "  plt.yticks(np.arange(n_features), cancer.feature_names)\n",
        "  plt.xlabel(\"Feature importance\")\n",
        "  plt.ylabel(\"Feature\")\n",
        "  plt.ylim(-1, n_features)\n",
        "  \n",
        "plot_feature_importances_cancer(tree)"
      ],
      "execution_count": 7,
      "outputs": [
        {
          "output_type": "error",
          "ename": "NameError",
          "evalue": "ignored",
          "traceback": [
            "\u001b[0;31m---------------------------------------------------------------------------\u001b[0m",
            "\u001b[0;31mNameError\u001b[0m                                 Traceback (most recent call last)",
            "\u001b[0;32m<ipython-input-7-9e3c5a41bbc4>\u001b[0m in \u001b[0;36m<module>\u001b[0;34m()\u001b[0m\n\u001b[1;32m      7\u001b[0m   \u001b[0mplt\u001b[0m\u001b[0;34m.\u001b[0m\u001b[0mylim\u001b[0m\u001b[0;34m(\u001b[0m\u001b[0;34m-\u001b[0m\u001b[0;36m1\u001b[0m\u001b[0;34m,\u001b[0m \u001b[0mn_features\u001b[0m\u001b[0;34m)\u001b[0m\u001b[0;34m\u001b[0m\u001b[0;34m\u001b[0m\u001b[0m\n\u001b[1;32m      8\u001b[0m \u001b[0;34m\u001b[0m\u001b[0m\n\u001b[0;32m----> 9\u001b[0;31m \u001b[0mplot_feature_importances_cancer\u001b[0m\u001b[0;34m(\u001b[0m\u001b[0mtree\u001b[0m\u001b[0;34m)\u001b[0m\u001b[0;34m\u001b[0m\u001b[0;34m\u001b[0m\u001b[0m\n\u001b[0m",
            "\u001b[0;32m<ipython-input-7-9e3c5a41bbc4>\u001b[0m in \u001b[0;36mplot_feature_importances_cancer\u001b[0;34m(model)\u001b[0m\n\u001b[1;32m      1\u001b[0m \u001b[0;32mdef\u001b[0m \u001b[0mplot_feature_importances_cancer\u001b[0m\u001b[0;34m(\u001b[0m\u001b[0mmodel\u001b[0m\u001b[0;34m)\u001b[0m\u001b[0;34m:\u001b[0m\u001b[0;34m\u001b[0m\u001b[0;34m\u001b[0m\u001b[0m\n\u001b[1;32m      2\u001b[0m   \u001b[0mn_features\u001b[0m \u001b[0;34m=\u001b[0m \u001b[0mcancer\u001b[0m\u001b[0;34m.\u001b[0m\u001b[0mdata\u001b[0m\u001b[0;34m.\u001b[0m\u001b[0mshape\u001b[0m\u001b[0;34m[\u001b[0m\u001b[0;36m1\u001b[0m\u001b[0;34m]\u001b[0m\u001b[0;34m\u001b[0m\u001b[0;34m\u001b[0m\u001b[0m\n\u001b[0;32m----> 3\u001b[0;31m   \u001b[0mplt\u001b[0m\u001b[0;34m.\u001b[0m\u001b[0mbarh\u001b[0m\u001b[0;34m(\u001b[0m\u001b[0mrange\u001b[0m\u001b[0;34m(\u001b[0m\u001b[0mn_features\u001b[0m\u001b[0;34m)\u001b[0m\u001b[0;34m,\u001b[0m \u001b[0mmodel\u001b[0m\u001b[0;34m.\u001b[0m\u001b[0mfeature_importances_\u001b[0m\u001b[0;34m,\u001b[0m \u001b[0malign\u001b[0m\u001b[0;34m=\u001b[0m\u001b[0;34m'center'\u001b[0m\u001b[0;34m)\u001b[0m\u001b[0;34m\u001b[0m\u001b[0;34m\u001b[0m\u001b[0m\n\u001b[0m\u001b[1;32m      4\u001b[0m   \u001b[0mplt\u001b[0m\u001b[0;34m.\u001b[0m\u001b[0myticks\u001b[0m\u001b[0;34m(\u001b[0m\u001b[0mnp\u001b[0m\u001b[0;34m.\u001b[0m\u001b[0marange\u001b[0m\u001b[0;34m(\u001b[0m\u001b[0mn_features\u001b[0m\u001b[0;34m)\u001b[0m\u001b[0;34m,\u001b[0m \u001b[0mcancer\u001b[0m\u001b[0;34m.\u001b[0m\u001b[0mfeature_names\u001b[0m\u001b[0;34m)\u001b[0m\u001b[0;34m\u001b[0m\u001b[0;34m\u001b[0m\u001b[0m\n\u001b[1;32m      5\u001b[0m   \u001b[0mplt\u001b[0m\u001b[0;34m.\u001b[0m\u001b[0mxlabel\u001b[0m\u001b[0;34m(\u001b[0m\u001b[0;34m\"Feature importance\"\u001b[0m\u001b[0;34m)\u001b[0m\u001b[0;34m\u001b[0m\u001b[0;34m\u001b[0m\u001b[0m\n",
            "\u001b[0;31mNameError\u001b[0m: name 'plt' is not defined"
          ]
        }
      ]
    },
    {
      "metadata": {
        "id": "aqJBIR9DqMmr",
        "colab_type": "code",
        "colab": {}
      },
      "cell_type": "code",
      "source": [
        "tree = mglearn.plots.plot_tree_not_monotone()\n",
        "display(tree)"
      ],
      "execution_count": 0,
      "outputs": []
    },
    {
      "metadata": {
        "id": "MkvwfhvPqTrR",
        "colab_type": "text"
      },
      "cell_type": "markdown",
      "source": [
        "## Random Forests\n",
        "\n",
        "Tree is tend to overfit the training data\n",
        "\n",
        "Random forest is a collection of trees that less suffer from overfitting)\n",
        "\n",
        "* Build multiple decision trees from randomly sampled n samples with repacement (complexity is controlled by **max_features** parameter)\n",
        "\n",
        "* Aggregate the results of the trees by soft voting\n",
        "\n",
        "\n",
        "See https://scikit-learn.org/stable/modules/generated/sklearn.ensemble.RandomForestClassifier.html"
      ]
    },
    {
      "metadata": {
        "id": "WFdYj8rfqWLY",
        "colab_type": "code",
        "colab": {}
      },
      "cell_type": "code",
      "source": [
        "from sklearn.datasets import make_moons\n",
        "X, y = make_moons(n_samples=100, noise=0.25, random_state=3)\n",
        "X_train, X_test, y_train, y_test = train_test_split(X, y, stratify=y,random_state=42)"
      ],
      "execution_count": 0,
      "outputs": []
    },
    {
      "metadata": {
        "id": "Y-MitLniqQ1Z",
        "colab_type": "code",
        "colab": {}
      },
      "cell_type": "code",
      "source": [
        "from sklearn.ensemble import RandomForestClassifier\n",
        "forest = RandomForestClassifier(n_estimators=5, random_state=2)\n",
        "forest.fit(X_train, y_train)"
      ],
      "execution_count": 0,
      "outputs": []
    },
    {
      "metadata": {
        "id": "GvlV-egHqd7o",
        "colab_type": "code",
        "colab": {}
      },
      "cell_type": "code",
      "source": [
        "fig, axes = plt.subplots(2, 3, figsize=(20, 10))\n",
        "for i, (ax, tree) in enumerate(zip(axes.ravel(), forest.estimators_)):\n",
        "  ax.set_title(\"Tree {}\".format(i))\n",
        "  mglearn.plots.plot_tree_partition(X_train, y_train, tree, ax=ax)\n",
        "  \n",
        "mglearn.plots.plot_2d_separator(forest, X_train, fill=True, ax=axes[-1, -1], alpha=.4)\n",
        "axes[-1, -1].set_title(\"Random Forest\")\n",
        "mglearn.discrete_scatter(X_train[:, 0], X_train[:, 1], y_train)"
      ],
      "execution_count": 0,
      "outputs": []
    },
    {
      "metadata": {
        "id": "6d5ahOvVqe2w",
        "colab_type": "code",
        "colab": {}
      },
      "cell_type": "code",
      "source": [
        ""
      ],
      "execution_count": 0,
      "outputs": []
    }
  ]
}